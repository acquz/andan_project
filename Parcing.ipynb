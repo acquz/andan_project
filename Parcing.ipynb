{
 "cells": [
  {
   "cell_type": "code",
   "execution_count": 1,
   "id": "fdc5c4f5-3c08-4435-8c4d-a055414261fa",
   "metadata": {},
   "outputs": [],
   "source": [
    "import requests\n",
    "from selenium import webdriver\n",
    "from selenium.webdriver import Chrome\n",
    "from selenium.webdriver.common.by import By\n",
    "from bs4 import BeautifulSoup\n",
    "import time \n",
    "import pandas as pd\n",
    "\n"
   ]
  },
  {
   "cell_type": "markdown",
   "id": "680e4d21",
   "metadata": {},
   "source": [
    "Переходим по ссылке через selenium, открываем объявление, переходим во вкладку с ним"
   ]
  },
  {
   "cell_type": "code",
   "execution_count": null,
   "id": "8c73ab7e",
   "metadata": {},
   "outputs": [],
   "source": [
    "url = \"https://www.cian.ru/cat.php?deal_type=sale&engine_version=2&object_type%5B0%5D=1&offer_type=flat&only_flat=1&region=1&room1=1&room2=1&room3=1\"\n",
    "browser = webdriver.Chrome()\n",
    "page = browser.get(url)\n",
    "advt = browser.find_elements(By.CLASS_NAME, '_93444fe79c--media--9P6wN')\n",
    "advertisement = advt[0].click()\n",
    "browser.switch_to.window(browser.window_handles[1])"
   ]
  },
  {
   "cell_type": "markdown",
   "id": "626b6cf3",
   "metadata": {},
   "source": [
    "Находим адрес, достаем оттуда, округ, район, улицу"
   ]
  },
  {
   "cell_type": "code",
   "execution_count": 5,
   "id": "a878aac6-2533-49e2-a38f-5a118f701db4",
   "metadata": {
    "scrolled": true
   },
   "outputs": [
    {
     "name": "stdout",
     "output_type": "stream",
     "text": [
      " ЦАО\n"
     ]
    }
   ],
   "source": [
    "address = [i.text for i in browser.find_elements(By.CLASS_NAME, 'a10a3f92e9--address-line--GRDTb')]\n",
    "adm_distr = address[0].split(',')[1]\n",
    "print(adm_distr)"
   ]
  },
  {
   "cell_type": "code",
   "execution_count": 6,
   "id": "473cdb18-9368-41e6-b332-151975e36add",
   "metadata": {},
   "outputs": [
    {
     "name": "stdout",
     "output_type": "stream",
     "text": [
      "Хамовники\n"
     ]
    }
   ],
   "source": [
    "distr = address[0].split(',')[2].split(' ')[2]\n",
    "print(distr)"
   ]
  },
  {
   "cell_type": "code",
   "execution_count": 7,
   "id": "f54cf846-8c41-40e1-a8c4-66a2e23b29a0",
   "metadata": {},
   "outputs": [
    {
     "name": "stdout",
     "output_type": "stream",
     "text": [
      " ул. Ефремова\n"
     ]
    }
   ],
   "source": [
    "st = address[0].split(',')[3]\n",
    "print(st)"
   ]
  },
  {
   "cell_type": "markdown",
   "id": "42f1a99c",
   "metadata": {},
   "source": [
    "Из кратких характеристик достаем общую площадь,жилую площадь(если есть) площадь кухни(если есть), этаж, этажность дома"
   ]
  },
  {
   "cell_type": "code",
   "execution_count": 8,
   "id": "c96802ed-f331-4ede-bb9f-f0af32a5bffb",
   "metadata": {},
   "outputs": [
    {
     "data": {
      "text/plain": [
       "['Общая площадь\\n78 м²', 'Площадь кухни\\n10,2 м²', 'Этаж\\n7 из 12']"
      ]
     },
     "execution_count": 8,
     "metadata": {},
     "output_type": "execute_result"
    }
   ],
   "source": [
    "characteristics  = [j.text for j in browser.find_elements(By.CLASS_NAME, 'a10a3f92e9--item--Jp5Qv')]\n",
    "characteristics\n"
   ]
  },
  {
   "cell_type": "code",
   "execution_count": 9,
   "id": "83e1d231-7ed0-462a-90c7-a2ac4c6fd314",
   "metadata": {},
   "outputs": [
    {
     "name": "stdout",
     "output_type": "stream",
     "text": [
      "78\n"
     ]
    }
   ],
   "source": [
    "total_ar = characteristics[0].split('\\n')[1].split(' ')[0]\n",
    "print(total_ar)"
   ]
  },
  {
   "cell_type": "code",
   "execution_count": 10,
   "id": "4835e3f7-5822-4eb3-bf4d-34c4cebae6e9",
   "metadata": {},
   "outputs": [
    {
     "name": "stdout",
     "output_type": "stream",
     "text": [
      "-\n"
     ]
    }
   ],
   "source": [
    "def find_living_area(characteristics):\n",
    "    for k in characteristics:\n",
    "        if k.split('\\n')[0] == 'Жилая площадь':\n",
    "            return k.split('\\n')[1].split(' ')[0]\n",
    "    return '-'\n",
    "    \n",
    "liv_area = find_living_area(characteristics)\n",
    "print(liv_area)"
   ]
  },
  {
   "cell_type": "code",
   "execution_count": 11,
   "id": "24a2098f-f439-41e8-a057-535c01d24d60",
   "metadata": {},
   "outputs": [
    {
     "name": "stdout",
     "output_type": "stream",
     "text": [
      "10,2\n"
     ]
    }
   ],
   "source": [
    "def find_kitchen_area(characteristics):\n",
    "    for k in characteristics:\n",
    "        if k.split('\\n')[0] == 'Площадь кухни':\n",
    "            return k.split('\\n')[1].split(' ')[0]\n",
    "    return '-'\n",
    "\n",
    "kit_area = find_kitchen_area(characteristics)\n",
    "print(kit_area)"
   ]
  },
  {
   "cell_type": "code",
   "execution_count": 12,
   "id": "78bcb2e2-1d5d-42e1-87f9-6f53459f9904",
   "metadata": {},
   "outputs": [
    {
     "name": "stdout",
     "output_type": "stream",
     "text": [
      "7\n"
     ]
    }
   ],
   "source": [
    "def find_flat_floor(characteristics):\n",
    "    for k in characteristics:\n",
    "        if k.split('\\n')[0] == 'Этаж':\n",
    "            return k.split('\\n')[1].split(' ')[-3]\n",
    "    return '-'\n",
    "\n",
    "flat_fl = find_flat_floor(characteristics)\n",
    "print(flat_fl)"
   ]
  },
  {
   "cell_type": "code",
   "execution_count": 13,
   "id": "39d17576-a0f2-4b9b-a76d-dcd70d2f326f",
   "metadata": {},
   "outputs": [
    {
     "name": "stdout",
     "output_type": "stream",
     "text": [
      "12\n"
     ]
    }
   ],
   "source": [
    "def find_house_floors(characteristics):\n",
    "    for k in characteristics:\n",
    "        if k.split('\\n')[0] == 'Этаж':\n",
    "            return k.split('\\n')[1].split(' ')[-1]\n",
    "    return '-'\n",
    "house_fl = find_house_floors(characteristics)\n",
    "print(house_fl)"
   ]
  },
  {
   "cell_type": "markdown",
   "id": "7bd82549",
   "metadata": {},
   "source": [
    "Если есть метро рядом, находим ближайшее и время до него"
   ]
  },
  {
   "cell_type": "code",
   "execution_count": 14,
   "id": "e16f3da3-ea53-462f-8e6e-7c92b88f1319",
   "metadata": {},
   "outputs": [
    {
     "name": "stdout",
     "output_type": "stream",
     "text": [
      "Фрунзенская\n"
     ]
    }
   ],
   "source": [
    "try:\n",
    "    sub = [l.text for l in browser.find_elements(By.CLASS_NAME, 'a10a3f92e9--underground--pjGNr')]\n",
    "    print(sub[0].split('\\n')[0])\n",
    "except:\n",
    "    sub = '-'"
   ]
  },
  {
   "cell_type": "code",
   "execution_count": 15,
   "id": "7ac26b16-537c-4968-a1c9-1385df1d54aa",
   "metadata": {},
   "outputs": [
    {
     "name": "stdout",
     "output_type": "stream",
     "text": [
      "6 мин.\n"
     ]
    }
   ],
   "source": [
    "if sub != '-':\n",
    "    time_to_sub = sub[0].split('\\n')[1]\n",
    "    print(time_to_sub)\n",
    "else: \n",
    "    time_to_sub = '-'"
   ]
  },
  {
   "cell_type": "markdown",
   "id": "13708271",
   "metadata": {},
   "source": [
    "Находим количество комнат"
   ]
  },
  {
   "cell_type": "code",
   "execution_count": 16,
   "id": "5bc9cb0f-5de5-42e8-802e-d08ce712fb72",
   "metadata": {},
   "outputs": [
    {
     "name": "stdout",
     "output_type": "stream",
     "text": [
      "['Продается 2-комн. квартира, 78 м²\\nв ЖК «Садовые кварталы»']\n"
     ]
    }
   ],
   "source": [
    "preview = [m.text for m in browser.find_elements(By.CLASS_NAME, 'a10a3f92e9--container--u51hg')]\n",
    "print(preview)"
   ]
  },
  {
   "cell_type": "code",
   "execution_count": 17,
   "id": "4f7991af-72fd-467a-bfbf-f91fea9c498e",
   "metadata": {},
   "outputs": [
    {
     "name": "stdout",
     "output_type": "stream",
     "text": [
      "2\n"
     ]
    }
   ],
   "source": [
    "def number_of_rooms(preview):\n",
    "    for i in preview:\n",
    "        parts = i.split(' ')\n",
    "        for j in parts:\n",
    "            if '-' in j:\n",
    "                room_info = j.split('-')\n",
    "                if len(room_info) == 2 and room_info[1] == 'комн.':\n",
    "                    return room_info[0]\n",
    "    return '-'\n",
    "\n",
    "room = number_of_rooms(preview)\n",
    "print(room)"
   ]
  },
  {
   "cell_type": "markdown",
   "id": "405536c7",
   "metadata": {},
   "source": [
    "Находим цену, убираем пробелы и знак ₽"
   ]
  },
  {
   "cell_type": "code",
   "execution_count": 18,
   "id": "56626835-62ec-4a04-a4e1-fc2b5c7fd6aa",
   "metadata": {},
   "outputs": [
    {
     "name": "stdout",
     "output_type": "stream",
     "text": [
      "102999000\n"
     ]
    }
   ],
   "source": [
    "pr = [n.text for n in browser.find_elements(By.CLASS_NAME, 'a10a3f92e9--price--Pg6fn')]\n",
    "pr = pr[0].replace('₽', '').replace(' ', '')\n",
    "print(pr)"
   ]
  },
  {
   "cell_type": "markdown",
   "id": "cbf7948a",
   "metadata": {},
   "source": [
    "Во вторичной информации (при наличии) находим кол-во санузлов, тип ремонта, тип дома, год постройки, количество подъездов в доме, "
   ]
  },
  {
   "cell_type": "code",
   "execution_count": 19,
   "id": "b67d4605-b2db-4049-873b-6fd1b67cf6a6",
   "metadata": {
    "scrolled": true
   },
   "outputs": [
    {
     "name": "stdout",
     "output_type": "stream",
     "text": [
      "['О квартире\\nТип жилья\\nВторичка\\nОбщая площадь\\n78\\nПлощадь кухни\\n10,2\\nСанузел\\n2 совмещенных\\nВид из окон\\nВо двор\\nРемонт\\nЕвроремонт', 'О доме\\nПодписаться на дом\\nТип дома\\nМонолитно-кирпичный\\nПарковка\\nМногоуровневая']\n"
     ]
    }
   ],
   "source": [
    "secondary_data = [i.text for i in browser.find_elements(By.CLASS_NAME, 'a10a3f92e9--group--K5ZqN')] \n",
    "print(secondary_data)"
   ]
  },
  {
   "cell_type": "code",
   "execution_count": 20,
   "id": "9a9927cb-3f8c-4ae1-b40e-457221ef4f24",
   "metadata": {},
   "outputs": [
    {
     "name": "stdout",
     "output_type": "stream",
     "text": [
      "2\n"
     ]
    }
   ],
   "source": [
    "sublists = [j.split('\\n') for j in secondary_data]\n",
    "def number_of_bathrooms(sublists):\n",
    "    for k in sublists:\n",
    "        for ind, l in enumerate(k):\n",
    "            if l == 'Санузел':\n",
    "                return k[ind+1].split(' ')[0]\n",
    "    return '-'\n",
    "\n",
    "bathroom = number_of_bathrooms(sublists)\n",
    "print(bathroom)"
   ]
  },
  {
   "cell_type": "code",
   "execution_count": 21,
   "id": "389bcd10-ac18-4358-94ed-615d078ee246",
   "metadata": {},
   "outputs": [
    {
     "name": "stdout",
     "output_type": "stream",
     "text": [
      "Евроремонт\n"
     ]
    }
   ],
   "source": [
    "def renovation_type(sublists):\n",
    "    for k in sublists:\n",
    "        for ind, l in enumerate(k):\n",
    "            if l == 'Ремонт':\n",
    "                return k[ind+1]\n",
    "    return '-'\n",
    "\n",
    "renov = renovation_type(sublists)\n",
    "print(renov)"
   ]
  },
  {
   "cell_type": "code",
   "execution_count": 22,
   "id": "1f79cade-24d6-4747-b0e2-afe388f785d3",
   "metadata": {},
   "outputs": [
    {
     "name": "stdout",
     "output_type": "stream",
     "text": [
      "Монолитно-кирпичный\n"
     ]
    }
   ],
   "source": [
    "def housetype(sublists):\n",
    "    for k in sublists:\n",
    "        for ind, l in enumerate(k):\n",
    "            if l == 'Тип дома':\n",
    "                return k[ind+1]\n",
    "    return '-'\n",
    "\n",
    "house = housetype(sublists)\n",
    "print(house)"
   ]
  },
  {
   "cell_type": "code",
   "execution_count": 23,
   "id": "464260b0-0c7c-45b6-88d7-67010a7181f9",
   "metadata": {},
   "outputs": [
    {
     "name": "stdout",
     "output_type": "stream",
     "text": [
      "-\n"
     ]
    }
   ],
   "source": [
    "def construct_year(sublists):\n",
    "    for k in sublists:\n",
    "        for ind, l in enumerate(k):\n",
    "            if l == 'Год постройки':\n",
    "                return k[ind+1]\n",
    "    return '-'\n",
    "year = construct_year(sublists)\n",
    "print(year)"
   ]
  },
  {
   "cell_type": "code",
   "execution_count": 24,
   "id": "3c39b45e-4ad1-4c68-9bc5-80c44ee1c05d",
   "metadata": {},
   "outputs": [
    {
     "name": "stdout",
     "output_type": "stream",
     "text": [
      "-\n"
     ]
    }
   ],
   "source": [
    "def num_of_entrances(sublists):\n",
    "    for k in sublists:\n",
    "        for ind, l in enumerate(k):\n",
    "            if l == 'Подъезды':\n",
    "                return k[ind+1]\n",
    "    return '-'\n",
    "entrances = num_of_entrances(sublists)\n",
    "print(entrances)"
   ]
  },
  {
   "cell_type": "code",
   "execution_count": 25,
   "id": "e32ee781-ffc0-4552-88ff-185e466ce4e8",
   "metadata": {},
   "outputs": [],
   "source": [
    "adm_district = []\n",
    "district = []\n",
    "street = []\n",
    "total_area = []\n",
    "living_area = []\n",
    "kitchen_area = []\n",
    "flat_floor = []\n",
    "house_floors = []\n",
    "subway = []\n",
    "time_to_subway = []\n",
    "rooms = []\n",
    "price = []\n",
    "bathrooms = []\n",
    "renovation = []\n",
    "house_type = []\n",
    "construction_year = []\n",
    "number_of_entrances = [] "
   ]
  },
  {
   "cell_type": "markdown",
   "id": "5e3b9805",
   "metadata": {},
   "source": [
    "функция для парсинга страницы Cian"
   ]
  },
  {
   "cell_type": "code",
   "execution_count": 173,
   "id": "e6c57207-b2fb-43a0-8787-e9fddc6cf2a2",
   "metadata": {},
   "outputs": [],
   "source": [
    "def parcing(pages):\n",
    "    browser = webdriver.Chrome()\n",
    "    url = \"https://www.cian.ru/cat.php?deal_type=sale&engine_version=2&object_type%5B0%5D=1&offer_type=flat&only_flat=1&p=49&region=1&room1=1&room2=1&room3=1\"\n",
    "    page = browser.get(url)\n",
    "    advt = browser.find_elements(By.CLASS_NAME, '_93444fe79c--media--9P6wN')\n",
    "    for advtsmnt in advt:\n",
    "        advtsmnt.click()\n",
    "        browser.switch_to.window(browser.window_handles[1])\n",
    "        time.sleep(1)\n",
    "        \n",
    "        address = [i.text for i in browser.find_elements(By.CLASS_NAME, 'a10a3f92e9--address-line--GRDTb')]\n",
    "        adm_distr = address[0].split(',')[1]\n",
    "        adm_district.append(adm_distr)\n",
    "        distr = address[0].split(',')[2].split(' ')[2]\n",
    "        district.append(distr)\n",
    "        st = address[0].split(',')[3]\n",
    "        street.append(st)\n",
    "        \n",
    "        characteristics = [j.text for j in browser.find_elements(By.CLASS_NAME, 'a10a3f92e9--item--Jp5Qv')]\n",
    "        \n",
    "        total_ar = characteristics[0].split('\\n')[1].split(' ')[0]\n",
    "        total_area.append(total_ar)\n",
    "\n",
    "        def find_living_area(characteristics):\n",
    "            for k in characteristics:\n",
    "                if k.split('\\n')[0] == 'Жилая площадь':\n",
    "                    return k.split('\\n')[1].split(' ')[0]\n",
    "            return '-'\n",
    "\n",
    "        liv_area = find_living_area(characteristics)\n",
    "        living_area.append(liv_area)\n",
    "\n",
    "        def find_kitchen_area(characteristics):\n",
    "            for k in characteristics:\n",
    "                if k.split('\\n')[0] == 'Площадь кухни':\n",
    "                    return k.split('\\n')[1].split(' ')[0]\n",
    "            return '-'\n",
    "\n",
    "        kit_area = find_kitchen_area(characteristics)\n",
    "        kitchen_area.append(kit_area)\n",
    "\n",
    "        def find_flat_floor(characteristics):\n",
    "            for k in characteristics:\n",
    "                if k.split('\\n')[0] == 'Этаж':\n",
    "                    return k.split('\\n')[1].split(' ')[-3]\n",
    "            return '-'\n",
    "\n",
    "        flat_fl = find_flat_floor(characteristics)\n",
    "        flat_floor.append(flat_fl)\n",
    "\n",
    "        def find_house_floors(characteristics):\n",
    "            for k in characteristics:\n",
    "                if k.split('\\n')[0] == 'Этаж':\n",
    "                    return k.split('\\n')[1].split(' ')[-1]\n",
    "            return '-'\n",
    "\n",
    "        house_fl = find_house_floors(characteristics)\n",
    "        house_floors.append(house_fl)\n",
    "        \n",
    "        elements = browser.find_elements(By.CLASS_NAME, 'a10a3f92e9--underground--pjGNr')\n",
    "        if elements:\n",
    "            sub = [l.text for l in elements]\n",
    "            subway.append(sub[0].split('\\n')[0])\n",
    "            time_to_sub = sub[0].split('\\n')[1]\n",
    "            time_to_subway.append(time_to_sub)\n",
    "        else:\n",
    "            subway.append('-')\n",
    "            time_to_subway.append('-')\n",
    "\n",
    "        preview = [m.text for m in browser.find_elements(By.CLASS_NAME, 'a10a3f92e9--container--u51hg')]\n",
    "\n",
    "        def number_of_rooms(preview):\n",
    "            for i in preview:\n",
    "                parts = i.split(' ')\n",
    "                for j in parts:\n",
    "                    if '-' in j:\n",
    "                        room_info = j.split('-')\n",
    "                        if len(room_info) == 2 and room_info[1] == 'комн.':\n",
    "                            return room_info[0]\n",
    "            return '-'\n",
    "\n",
    "        room = number_of_rooms(preview)\n",
    "        rooms.append(room)\n",
    "\n",
    "        pr = [n.text for n in browser.find_elements(By.CLASS_NAME, 'a10a3f92e9--price--Pg6fn')]\n",
    "        pr = pr[0].replace('₽', '').replace(' ', '')\n",
    "        price.append(pr)\n",
    "        \n",
    "        secondary_data = [i.text for i in browser.find_elements(By.CLASS_NAME, 'a10a3f92e9--group--K5ZqN')]\n",
    "        sublists = [j.split('\\n') for j in secondary_data]\n",
    "\n",
    "        def number_of_bathrooms(sublists):\n",
    "            for k in sublists:\n",
    "                for ind, l in enumerate(k):\n",
    "                    if l == 'Санузел':\n",
    "                        return k[ind+1].split(' ')[0]\n",
    "            return '-'\n",
    "\n",
    "        bathroom = number_of_bathrooms(sublists)\n",
    "        bathrooms.append(bathroom)\n",
    "\n",
    "        def renovation_type(sublists):\n",
    "            for k in sublists:\n",
    "                for ind, l in enumerate(k):\n",
    "                    if l == 'Ремонт':\n",
    "                        return k[ind+1]\n",
    "            return '-'\n",
    "\n",
    "        renov = renovation_type(sublists)\n",
    "        renovation.append(renov)\n",
    "\n",
    "        def housetype(sublists):\n",
    "            for k in sublists:\n",
    "                for ind, l in enumerate(k):\n",
    "                    if l == 'Тип дома':\n",
    "                        return k[ind+1]\n",
    "            return '-'\n",
    "\n",
    "        house = housetype(sublists)\n",
    "        house_type.append(house)\n",
    "\n",
    "        def construct_year(sublists):\n",
    "            for k in sublists:\n",
    "                for ind, l in enumerate(k):\n",
    "                    if l == 'Год постройки':\n",
    "                        return k[ind+1]\n",
    "            return '-'\n",
    "\n",
    "        year = construct_year(sublists)\n",
    "        construction_year.append(year)\n",
    "\n",
    "        def num_of_entrances(sublists):\n",
    "            for k in sublists:\n",
    "                for ind, l in enumerate(k):\n",
    "                    if l == 'Подъезды':\n",
    "                        return k[ind+1]\n",
    "            return '-'\n",
    "\n",
    "        entrances = num_of_entrances(sublists)\n",
    "        number_of_entrances.append(entrances)\n",
    "\n",
    "        browser.close()\n",
    "        browser.switch_to.window(browser.window_handles[0])\n",
    "    browser.close()\n",
    "    "
   ]
  },
  {
   "cell_type": "code",
   "execution_count": 174,
   "id": "9435561a-37de-4bd7-9b61-a10799557a9c",
   "metadata": {},
   "outputs": [],
   "source": [
    "parcing(0)"
   ]
  },
  {
   "cell_type": "markdown",
   "id": "b4e3d99f",
   "metadata": {},
   "source": [
    "Делаем из строковых данных численные"
   ]
  },
  {
   "cell_type": "code",
   "execution_count": 217,
   "id": "4106f13c-b22b-4463-a7d5-6d7b4f6eea39",
   "metadata": {},
   "outputs": [],
   "source": [
    "time_to_subway_ed = []\n",
    "for i in time_to_subway:\n",
    "    if i == '-':\n",
    "        time_to_subway_ed.append(i) \n",
    "    elif  i ==  'откроется в 2024':\n",
    "        time_to_subway_ed.append(i)\n",
    "    else:\n",
    "        i = i.split(' ')[0]\n",
    "        i = int(i)\n",
    "        time_to_subway_ed.append(i)"
   ]
  },
  {
   "cell_type": "code",
   "execution_count": 191,
   "id": "791191d3-8773-49d3-8576-0210cb2b871b",
   "metadata": {},
   "outputs": [
    {
     "name": "stdout",
     "output_type": "stream",
     "text": [
     ]
    }
   ],
   "source": [
    "def str_to_int_ta(total_area):\n",
    "    total_area_ed= []\n",
    "    for i in total_area:\n",
    "        i = i.replace(',', '.')\n",
    "        i = float(i)\n",
    "        total_area_ed.append(i)\n",
    "    return total_area_ed\n",
    "total_area = str_to_int_ta(total_area)\n",
    "print((total_area))"
   ]
  },
  {
   "cell_type": "code",
   "execution_count": 202,
   "id": "f1ccd3b7-33af-4684-9858-b2a15935cfb4",
   "metadata": {},
   "outputs": [
    {
     "ename": "AttributeError",
     "evalue": "'float' object has no attribute 'replace'",
     "output_type": "error",
     "traceback": [
      "\u001b[0;31m---------------------------------------------------------------------------\u001b[0m",
      "\u001b[0;31mAttributeError\u001b[0m                            Traceback (most recent call last)",
      "Cell \u001b[0;32mIn[202], line 11\u001b[0m\n\u001b[1;32m      9\u001b[0m             living_area_ed\u001b[38;5;241m.\u001b[39mappend(i)\n\u001b[1;32m     10\u001b[0m     \u001b[38;5;28;01mreturn\u001b[39;00m living_area_ed\n\u001b[0;32m---> 11\u001b[0m living_area \u001b[38;5;241m=\u001b[39m \u001b[43mstr_to_float_la\u001b[49m\u001b[43m(\u001b[49m\u001b[43mliving_area\u001b[49m\u001b[43m)\u001b[49m\n",
      "Cell \u001b[0;32mIn[202], line 7\u001b[0m, in \u001b[0;36mstr_to_float_la\u001b[0;34m(living_area)\u001b[0m\n\u001b[1;32m      5\u001b[0m     living_area_ed\u001b[38;5;241m.\u001b[39mappend(i)\n\u001b[1;32m      6\u001b[0m \u001b[38;5;28;01melse\u001b[39;00m:\n\u001b[0;32m----> 7\u001b[0m     i \u001b[38;5;241m=\u001b[39m \u001b[43mi\u001b[49m\u001b[38;5;241;43m.\u001b[39;49m\u001b[43mreplace\u001b[49m(\u001b[38;5;124m'\u001b[39m\u001b[38;5;124m,\u001b[39m\u001b[38;5;124m'\u001b[39m, \u001b[38;5;124m'\u001b[39m\u001b[38;5;124m.\u001b[39m\u001b[38;5;124m'\u001b[39m)\n\u001b[1;32m      8\u001b[0m     i \u001b[38;5;241m=\u001b[39m \u001b[38;5;28mfloat\u001b[39m(i)\n\u001b[1;32m      9\u001b[0m     living_area_ed\u001b[38;5;241m.\u001b[39mappend(i)\n",
      "\u001b[0;31mAttributeError\u001b[0m: 'float' object has no attribute 'replace'"
     ]
    }
   ],
   "source": [
    "def str_to_float_la(living_area):\n",
    "    living_area_ed = []\n",
    "    for i in living_area:\n",
    "        if i == '-':\n",
    "            living_area_ed.append(i)\n",
    "        else:\n",
    "            i = i.replace(',', '.')\n",
    "            i = float(i)\n",
    "            living_area_ed.append(i)\n",
    "    return living_area_ed\n",
    "living_area = str_to_float_la(living_area)\n"
   ]
  },
  {
   "cell_type": "code",
   "execution_count": 204,
   "id": "f84e6e59-d817-4599-9105-dfa7b4b192f3",
   "metadata": {},
   "outputs": [
    {
     "ename": "AttributeError",
     "evalue": "'float' object has no attribute 'replace'",
     "output_type": "error",
     "traceback": [
      "\u001b[0;31m---------------------------------------------------------------------------\u001b[0m",
      "\u001b[0;31mAttributeError\u001b[0m                            Traceback (most recent call last)",
      "Cell \u001b[0;32mIn[204], line 11\u001b[0m\n\u001b[1;32m      9\u001b[0m             kitchen_area_ed\u001b[38;5;241m.\u001b[39mappend(i)\n\u001b[1;32m     10\u001b[0m     \u001b[38;5;28;01mreturn\u001b[39;00m kitchen_area_ed\n\u001b[0;32m---> 11\u001b[0m kitchen_area \u001b[38;5;241m=\u001b[39m \u001b[43mstr_to_float_k\u001b[49m\u001b[43m(\u001b[49m\u001b[43mkitchen_area\u001b[49m\u001b[43m)\u001b[49m\n",
      "Cell \u001b[0;32mIn[204], line 7\u001b[0m, in \u001b[0;36mstr_to_float_k\u001b[0;34m(kitchen_area)\u001b[0m\n\u001b[1;32m      5\u001b[0m     kitchen_area_ed\u001b[38;5;241m.\u001b[39mappend(i)\n\u001b[1;32m      6\u001b[0m \u001b[38;5;28;01melse\u001b[39;00m:\n\u001b[0;32m----> 7\u001b[0m     i \u001b[38;5;241m=\u001b[39m \u001b[43mi\u001b[49m\u001b[38;5;241;43m.\u001b[39;49m\u001b[43mreplace\u001b[49m(\u001b[38;5;124m'\u001b[39m\u001b[38;5;124m,\u001b[39m\u001b[38;5;124m'\u001b[39m, \u001b[38;5;124m'\u001b[39m\u001b[38;5;124m.\u001b[39m\u001b[38;5;124m'\u001b[39m)\n\u001b[1;32m      8\u001b[0m     i \u001b[38;5;241m=\u001b[39m \u001b[38;5;28mfloat\u001b[39m(i)\n\u001b[1;32m      9\u001b[0m     kitchen_area_ed\u001b[38;5;241m.\u001b[39mappend(i)\n",
      "\u001b[0;31mAttributeError\u001b[0m: 'float' object has no attribute 'replace'"
     ]
    }
   ],
   "source": [
    "def str_to_float_k(kitchen_area):\n",
    "    kitchen_area_ed = []\n",
    "    for i in kitchen_area:\n",
    "        if i == '-':\n",
    "            kitchen_area_ed.append(i)\n",
    "        else:\n",
    "            i = i.replace(',', '.')\n",
    "            i = float(i)\n",
    "            kitchen_area_ed.append(i)\n",
    "    return kitchen_area_ed\n",
    "kitchen_area = str_to_float_k(kitchen_area)"
   ]
  },
  {
   "cell_type": "code",
   "execution_count": 205,
   "id": "190a00a4-83e0-4c23-8c88-575f7d59108b",
   "metadata": {},
   "outputs": [],
   "source": [
    "rooms_ed = []\n",
    "for i in rooms:\n",
    "    i = int(i)\n",
    "    rooms_ed.append(i)\n"
   ]
  },
  {
   "cell_type": "code",
   "execution_count": 211,
   "id": "53a34c32-8d64-4983-b6d9-562f818c7fe2",
   "metadata": {},
   "outputs": [],
   "source": [
    "price_ed = []\n",
    "for i in price:\n",
    "    if i == '':\n",
    "        price_ed.append(i)\n",
    "    else: \n",
    "        i = int(i)\n",
    "        price_ed.append(i)"
   ]
  },
  {
   "cell_type": "code",
   "execution_count": 214,
   "id": "eb2e6e74-1ec9-4160-8562-6241beb66776",
   "metadata": {},
   "outputs": [],
   "source": [
    "house_floors_ed = []\n",
    "for i in house_floors:\n",
    "    i = int(i)\n",
    "    house_floors_ed.append(i)"
   ]
  },
  {
   "cell_type": "code",
   "execution_count": 219,
   "id": "0c376748-7382-4599-abdf-85911e802826",
   "metadata": {},
   "outputs": [
    {
     "name": "stdout",
     "output_type": "stream",
     "text": [
      "[7, 5, 4, 5, 3, 8, 2, 3, 8, 7, 2, 12, 6, 10, 6, 3, 5, 4, 38, 3, 8, 8, 8, 10, 4, 8, 2, 8, 5, 8, 6, 2, 8, 3, 4, 2, 6, 4, 6, 3, 12, 6, 4, 25, 9, 4, 7, 5, 10, 10, 8, 34, 8, 6, 3, 3, 11, 17, 5, 4, 5, 4, 10, 5, 4, 4, 5, 11, 2, 9, 3, 1, 13, 40, 4, 9, 4, 4, 11, 8, 20, 3, 4, 3, 46, 3, 7, 8, 5, 3, 38, 4, 10, 8, 2, 3, 10, 7, 6, 2, 5, 7, 4, 2, 9, 2, 4, 37, 4, 2, 10, 3, 11, 5, 11, 1, 2, 5, 25, 6, 24, 46, 4, 2, 7, 10, 3, 3, 2, 5, 8, 4, 4, 38, 10, 2, 10, 5, 7, 10, 7, 3, 6, 4, 5, 2, 7, 7, 2, 2, 4, 9, 15, 2, 4, 10, 37, 4, 4, 2, 3, 2, 9, 3, 8, 3, 1, 5, 11, 11, 1, 13, 25, 9, 15, 2, 11, 18, 14, 2, 3, 6, 2, 3, 29, 26, 22, 9, 22, 3, 4, 9, 15, 14, 3, 4, 10, 5, 6, 3, 2, 11, 2, 5, 3, 3, 6, 2, 4, 8, 7, 9, 6, 15, 10, 4, 16, 6, 7, 5, 9, 6, 4, 18, 9, 4, 31, 4, 9, 8, 22, 4, 8, 4, 8, 7, 5, 5, 5, 6, 2, 9, 2, 9, 5, 1, 3, 6, 9, 5, 6, 21, 6, 13, 9, 8, 6, 3, 1, 10, 1, 2, 4, 1, 2, 12, 1, 29, 16, 1, 3, 45, 7, 2, 15, 21, 10, 28, 25, 4, 3, 3, 12, 2, 30, 3, 7, 2, 13, 2, 2, 8, 2, 2, 6, 3, 4, 4, 2, 5, 4, 6, 12, 1, 2, 5, 8, 10, 10, 8, 2, 5, 1, 4, 5, 6, 9, 13, 9, 9, 11, 2, 6, 5, 6, 1, 25, 3, 3, 1, 17, 18, 11, 3, 10, 1, 16, 8, 11, 21, 5, 4, 8, 10, 1, 10, 16, 3, 2, 4, 30, 4, 11, 22, 5, 6, 9, 6, 14, 4, 6, 2, 13, 2, 1, 12, 12, 6, 12, 2, 6, 12, 4, 21, 10, 8, 5, 21, 5, 19, 5, 8, 15, 4, 3, 1, 17, 7, 8, 3, 2, 30, 2, 2, 14, 3, 5, 25, 3, 3, 2, 4, 9, 9, 7, 3, 28, 16, 3, 3, 3, 29, 9, 6, 8, 1, 8, 4, 1, 10, 4, 21, 9, 3, 24, 9, 3, 3, 11, 4, 2, 14, 5, 12, 47, 3, 15, 1, 10, 24, 26, 22, 20, 3, 2, 8, 17, 35, 11, 9, 4, 22, 8, 3, 21, 5, 3, 24, 4, 9, 4, 9, 7, 16, 8, 7, 2, 12, 2, 5, 4, 3, 9, 3, 4, 39, 9, 9, 5, 2, 7, 39, 7, 3, 5, 9, 9, 30, 6, 3, 3, 3, 3, 7, 29, 4, 20, 3, 9, 12, 18, 11, 3, 6, 7, 2, 18, 3, 7, 9, 10, 8, 4, 7, 6, 2, 2, 2, 4, 11, 42, 4, 22, 12, 2, 23, 7, 4, 10, 18, 15, 24, 5, 9, 2, 5, 18, 5, 32, 8, 3, 11, 6, 7, 4, 9, 4, 10, 3, 7, 9, 4, 2, 12, 18, 4, 2, 4, 7, 36, 2, 2, 16, 2, 6, 32, 3, 3, 5, 49, 18, 4, 16, 4, 13, 9, 6, 7, 2, 3, 2, 7, 4, 20, 5, 22, 5, 1, 3, 30, 5, 6, 7, 2, 4, 3, 3, 7, 4, 4, 13, 10, 3, 3, 8, 14, 9, 8, 7, 4, 6, 9, 2, 18, 16, 5, 8, 7, 4, 7, 2, 5, 18, 4, 37, 5, 4, 7, 14, 3, 7, 17, 4, 9, 14, 3, 13, 3, 4, 2, 37, 5, 18, 4, 7, 7, 2, 2, 2, 3, 12, 8, 3, 3, 2, 13, 21, 5, 9, 11, 10, 4, 10, 3, 9, 14, 3, 15, 4, 3, 3, 5, 4, 7, 9, 8, 14, 13, 11, 22, 16, 5, 6, 3, 4, 15, 18, 12, 6, 3, 7, 14, 7, 28, 3, 11, 6, 15, 24, 13, 9, 9, 16, 2, 3, 3, 4, 5, 9, 13, 13, 4, 7, 2, 5, 5, 15, 11, 8, 20, 9, 10, 7, 5, 16, 20, 3, 8, 31, 29, 3, 19, 6, 5, 2, 9, 15, 4, 14, 9, 19, 3, 3, 1, 8, 3, 12, 14, 15, 17, 5, 4, 11, 24, 5, 9, 9, 9, 5, 3, 3, 3, 14, 7, 5, 3, 8, 6, 9, 5, 10, 13, 6, 6, 6, 5, 8, 2, 2, 1, 8, 16, 8, 2, 11, 10, 4, 12, 12, 8, 6, 3, 9, 7, 10, 5, 2, 5, 4, 4, 4, 9, 3, 14, 8, 6, 9, 3, 5, 3, 8, 9, 6, 3, 1, 8, 12, 2, 11, 6, 1, 2, 5, 1, 3, 2, 2, 7, 11, 5, 2, 2, 3, 2, 3, 10, 11, 4, 8, 4, 1, 12, 12, 10, 14, 3, 4, 2, 2, 8, 8, 3, 8, 13, 11, 10, 1, 5, 16, 15, 21, 6, 3, 5, 4, 7, 13, 7, 8, 7, 12, 11, 4, 8, 17, 3, 3, 3, 5, 2, 14, 4, 12, 9, 8, 5, 4, 22, 3, 8, 9, 18, 3, 6, 8, 14, 8, 14, 3, 1, 3, 24, 6, 11, 7, 9, 15, 9, 5, 6, 7, 1, 19, 29, 9, 2, 10, 5, 7, 2, 1, 2, 6, 2, 6, 4, 4, 24, 8, 11, 6, 3, 15, 3, 5, 4, 5, 1, 21, 9, 18, 11, 5, 5, 1, 17, 14, 33, 5, 3, 12, 2, 9, 4, 7, 12, 2, 8, 5, 4, 10, 2, 9, 3, 14, 7, 1, 4, 10, 3, 2, 3, 2, 14, 24, 6, 3, 12, 7, 8, 6, 10, 3, 9, 12, 2, 21, 1, 3, 11, 13, 23, 15, 5, 9, 9, 2, 3, 3, 10, 4, 5, 5, 5, 1, 7, 3, 5, 3, 9, 3, 6, 10, 12, 11, 4, 3, 5, 6, 9, 1, 14, 7, 9, 9, 4, 11, 19, 25, 13, 2, 2, 4, 16, 1, 4, 9, 19, 3, 2, 9, 6, 22, 10, 4, 2, 7, 16, 13, 8, 18, 23, 21, 2, 5]\n"
     ]
    }
   ],
   "source": [
    "flat_floor_ed = []\n",
    "for i in flat_floor:\n",
    "    i = int(i)\n",
    "    flat_floor_ed.append(i)\n",
    "print(flat_floor_ed)"
   ]
  },
  {
   "cell_type": "code",
   "execution_count": 221,
   "id": "6dd3462c-9e07-4d76-b83f-6beba5fac8ed",
   "metadata": {},
   "outputs": [],
   "source": [
    "bathrooms_ed = []\n",
    "for i in bathrooms:\n",
    "    if i == '-':\n",
    "        bathrooms_ed.append(i)\n",
    "    else: \n",
    "        i = int(i)\n",
    "        bathrooms_ed.append(i)"
   ]
  },
  {
   "cell_type": "code",
   "execution_count": 225,
   "id": "a0a5ff43-55ee-48b3-8321-c109e69eb047",
   "metadata": {},
   "outputs": [],
   "source": [
    "number_of_entrances_ed = []\n",
    "for i in number_of_entrances:\n",
    "    if i == '-':\n",
    "        number_of_entrances_ed.append(i)\n",
    "    else: \n",
    "        i = int(i)\n",
    "        number_of_entrances_ed.append(i)"
   ]
  },
  {
   "cell_type": "markdown",
   "id": "25ac5c0e",
   "metadata": {},
   "source": [
    "Создаем дата фрейм"
   ]
  },
  {
   "cell_type": "code",
   "execution_count": 228,
   "id": "b95496c3-3688-457f-b619-28ba451676af",
   "metadata": {},
   "outputs": [],
   "source": [
    "columns  = {'Район': district, 'Улица': street, 'Станция метро': subway, 'Время до метро, мин.': time_to_subway_ed, 'Количество комнат': rooms_ed, 'Общая площадь, м.кв.': total_area, 'Жилая площадь, м.кв.': living_area, 'Цена': price_ed, 'Год постройки': construction_year, 'Тип дома': house_type, 'Этаж': flat_floor_ed, 'Количество этажей в доме': house_floors_ed, 'Площадь кухни, м.кв.': kitchen_area, 'Количество санузлов': bathrooms, 'Тип ремонта': renovation, 'Количество подъездов в доме': number_of_entrances_ed} \n",
    "\n",
    "      "
   ]
  },
  {
   "cell_type": "code",
   "execution_count": 237,
   "id": "e3aa493e-3694-4376-8b7b-e406298b558f",
   "metadata": {},
   "outputs": [
    {
     "data": {
      "text/html": [
       "<div>\n",
       "<style scoped>\n",
       "    .dataframe tbody tr th:only-of-type {\n",
       "        vertical-align: middle;\n",
       "    }\n",
       "\n",
       "    .dataframe tbody tr th {\n",
       "        vertical-align: top;\n",
       "    }\n",
       "\n",
       "    .dataframe thead th {\n",
       "        text-align: right;\n",
       "    }\n",
       "</style>\n",
       "<table border=\"1\" class=\"dataframe\">\n",
       "  <thead>\n",
       "    <tr style=\"text-align: right;\">\n",
       "      <th></th>\n",
       "      <th>Район</th>\n",
       "      <th>Улица</th>\n",
       "      <th>Станция метро</th>\n",
       "      <th>Время до метро, мин.</th>\n",
       "      <th>Количество комнат</th>\n",
       "      <th>Общая площадь, м.кв.</th>\n",
       "      <th>Жилая площадь, м.кв.</th>\n",
       "      <th>Цена</th>\n",
       "      <th>Год постройки</th>\n",
       "      <th>Тип дома</th>\n",
       "      <th>Этаж</th>\n",
       "      <th>Количество этажей в доме</th>\n",
       "      <th>Площадь кухни, м.кв.</th>\n",
       "      <th>Количество санузлов</th>\n",
       "      <th>Тип ремонта</th>\n",
       "      <th>Количество подъездов в доме</th>\n",
       "    </tr>\n",
       "  </thead>\n",
       "  <tbody>\n",
       "    <tr>\n",
       "      <th>0</th>\n",
       "      <td>Хамовники</td>\n",
       "      <td>ул. Ефремова</td>\n",
       "      <td>Фрунзенская</td>\n",
       "      <td>6</td>\n",
       "      <td>2</td>\n",
       "      <td>78.00</td>\n",
       "      <td>-</td>\n",
       "      <td>102999000</td>\n",
       "      <td>-</td>\n",
       "      <td>Монолитно-кирпичный</td>\n",
       "      <td>7</td>\n",
       "      <td>12</td>\n",
       "      <td>10.2</td>\n",
       "      <td>2</td>\n",
       "      <td>Евроремонт</td>\n",
       "      <td>-</td>\n",
       "    </tr>\n",
       "    <tr>\n",
       "      <th>1</th>\n",
       "      <td>Пресненский</td>\n",
       "      <td>2-я Звенигородская ул.</td>\n",
       "      <td>Улица 1905 года</td>\n",
       "      <td>7</td>\n",
       "      <td>3</td>\n",
       "      <td>116.80</td>\n",
       "      <td>-</td>\n",
       "      <td>120000000</td>\n",
       "      <td>2023</td>\n",
       "      <td>-</td>\n",
       "      <td>5</td>\n",
       "      <td>21</td>\n",
       "      <td>-</td>\n",
       "      <td>2</td>\n",
       "      <td>Евроремонт</td>\n",
       "      <td>1</td>\n",
       "    </tr>\n",
       "    <tr>\n",
       "      <th>3</th>\n",
       "      <td>Пресненский</td>\n",
       "      <td>2-я Звенигородская ул.</td>\n",
       "      <td>Улица 1905 года</td>\n",
       "      <td>7</td>\n",
       "      <td>3</td>\n",
       "      <td>116.78</td>\n",
       "      <td>-</td>\n",
       "      <td>120000000</td>\n",
       "      <td>2023</td>\n",
       "      <td>-</td>\n",
       "      <td>5</td>\n",
       "      <td>21</td>\n",
       "      <td>-</td>\n",
       "      <td>2</td>\n",
       "      <td>Евроремонт</td>\n",
       "      <td>1</td>\n",
       "    </tr>\n",
       "    <tr>\n",
       "      <th>4</th>\n",
       "      <td>Пресненский</td>\n",
       "      <td>ул. Костикова</td>\n",
       "      <td>Улица 1905 года</td>\n",
       "      <td>9</td>\n",
       "      <td>2</td>\n",
       "      <td>51.00</td>\n",
       "      <td>-</td>\n",
       "      <td>52000000</td>\n",
       "      <td>2023</td>\n",
       "      <td>-</td>\n",
       "      <td>3</td>\n",
       "      <td>21</td>\n",
       "      <td>-</td>\n",
       "      <td>1</td>\n",
       "      <td>Евроремонт</td>\n",
       "      <td>-</td>\n",
       "    </tr>\n",
       "    <tr>\n",
       "      <th>5</th>\n",
       "      <td>Головинский</td>\n",
       "      <td>ул. Лавочкина</td>\n",
       "      <td>Водный стадион</td>\n",
       "      <td>4</td>\n",
       "      <td>2</td>\n",
       "      <td>44.00</td>\n",
       "      <td>27.0</td>\n",
       "      <td>10000000</td>\n",
       "      <td>1968</td>\n",
       "      <td>Панельный</td>\n",
       "      <td>8</td>\n",
       "      <td>9</td>\n",
       "      <td>7.0</td>\n",
       "      <td>1</td>\n",
       "      <td>Без ремонта</td>\n",
       "      <td>8</td>\n",
       "    </tr>\n",
       "    <tr>\n",
       "      <th>...</th>\n",
       "      <td>...</td>\n",
       "      <td>...</td>\n",
       "      <td>...</td>\n",
       "      <td>...</td>\n",
       "      <td>...</td>\n",
       "      <td>...</td>\n",
       "      <td>...</td>\n",
       "      <td>...</td>\n",
       "      <td>...</td>\n",
       "      <td>...</td>\n",
       "      <td>...</td>\n",
       "      <td>...</td>\n",
       "      <td>...</td>\n",
       "      <td>...</td>\n",
       "      <td>...</td>\n",
       "      <td>...</td>\n",
       "    </tr>\n",
       "    <tr>\n",
       "      <th>1048</th>\n",
       "      <td>Лосиноостровский</td>\n",
       "      <td>Стартовая ул.</td>\n",
       "      <td>Медведково</td>\n",
       "      <td>3</td>\n",
       "      <td>3</td>\n",
       "      <td>65.60</td>\n",
       "      <td>40.7</td>\n",
       "      <td>17620000</td>\n",
       "      <td>1976</td>\n",
       "      <td>-</td>\n",
       "      <td>13</td>\n",
       "      <td>16</td>\n",
       "      <td>8.5</td>\n",
       "      <td>-</td>\n",
       "      <td>Косметический</td>\n",
       "      <td>1</td>\n",
       "    </tr>\n",
       "    <tr>\n",
       "      <th>1049</th>\n",
       "      <td>Донской</td>\n",
       "      <td>Варшавское ш.</td>\n",
       "      <td>Нагатинская</td>\n",
       "      <td>11</td>\n",
       "      <td>3</td>\n",
       "      <td>53.40</td>\n",
       "      <td>40.0</td>\n",
       "      <td>17550000</td>\n",
       "      <td>1962</td>\n",
       "      <td>Монолитный</td>\n",
       "      <td>8</td>\n",
       "      <td>8</td>\n",
       "      <td>5.3</td>\n",
       "      <td>1</td>\n",
       "      <td>Косметический</td>\n",
       "      <td>5</td>\n",
       "    </tr>\n",
       "    <tr>\n",
       "      <th>1050</th>\n",
       "      <td>Нижегородский</td>\n",
       "      <td>Рязанский просп.</td>\n",
       "      <td>Нижегородская</td>\n",
       "      <td>7</td>\n",
       "      <td>1</td>\n",
       "      <td>42.10</td>\n",
       "      <td>18.3</td>\n",
       "      <td>17700000</td>\n",
       "      <td>-</td>\n",
       "      <td>-</td>\n",
       "      <td>18</td>\n",
       "      <td>25</td>\n",
       "      <td>12.3</td>\n",
       "      <td>-</td>\n",
       "      <td>Евроремонт</td>\n",
       "      <td>-</td>\n",
       "    </tr>\n",
       "    <tr>\n",
       "      <th>1052</th>\n",
       "      <td>Покровское-Стрешнево</td>\n",
       "      <td>Волоколамское ш.</td>\n",
       "      <td>Трикотажная</td>\n",
       "      <td>5</td>\n",
       "      <td>1</td>\n",
       "      <td>39.10</td>\n",
       "      <td>20.0</td>\n",
       "      <td>17700000</td>\n",
       "      <td>-</td>\n",
       "      <td>-</td>\n",
       "      <td>21</td>\n",
       "      <td>29</td>\n",
       "      <td>12.0</td>\n",
       "      <td>1</td>\n",
       "      <td>Дизайнерский</td>\n",
       "      <td>-</td>\n",
       "    </tr>\n",
       "    <tr>\n",
       "      <th>1054</th>\n",
       "      <td>Ломоносовский</td>\n",
       "      <td>Ленинский просп.</td>\n",
       "      <td>Новаторская</td>\n",
       "      <td>13</td>\n",
       "      <td>2</td>\n",
       "      <td>37.10</td>\n",
       "      <td>22.6</td>\n",
       "      <td>17750000</td>\n",
       "      <td>1964</td>\n",
       "      <td>Блочный</td>\n",
       "      <td>5</td>\n",
       "      <td>9</td>\n",
       "      <td>7.5</td>\n",
       "      <td>1</td>\n",
       "      <td>Евроремонт</td>\n",
       "      <td>1</td>\n",
       "    </tr>\n",
       "  </tbody>\n",
       "</table>\n",
       "<p>1052 rows × 16 columns</p>\n",
       "</div>"
      ],
      "text/plain": [
       "                     Район                    Улица    Станция метро  \\\n",
       "0                Хамовники             ул. Ефремова      Фрунзенская   \n",
       "1              Пресненский   2-я Звенигородская ул.  Улица 1905 года   \n",
       "3              Пресненский   2-я Звенигородская ул.  Улица 1905 года   \n",
       "4              Пресненский            ул. Костикова  Улица 1905 года   \n",
       "5              Головинский            ул. Лавочкина   Водный стадион   \n",
       "...                    ...                      ...              ...   \n",
       "1048      Лосиноостровский            Стартовая ул.       Медведково   \n",
       "1049               Донской            Варшавское ш.      Нагатинская   \n",
       "1050         Нижегородский         Рязанский просп.    Нижегородская   \n",
       "1052  Покровское-Стрешнево         Волоколамское ш.      Трикотажная   \n",
       "1054         Ломоносовский         Ленинский просп.      Новаторская   \n",
       "\n",
       "     Время до метро, мин.  Количество комнат  Общая площадь, м.кв.  \\\n",
       "0                       6                  2                 78.00   \n",
       "1                       7                  3                116.80   \n",
       "3                       7                  3                116.78   \n",
       "4                       9                  2                 51.00   \n",
       "5                       4                  2                 44.00   \n",
       "...                   ...                ...                   ...   \n",
       "1048                    3                  3                 65.60   \n",
       "1049                   11                  3                 53.40   \n",
       "1050                    7                  1                 42.10   \n",
       "1052                    5                  1                 39.10   \n",
       "1054                   13                  2                 37.10   \n",
       "\n",
       "     Жилая площадь, м.кв.       Цена Год постройки             Тип дома  Этаж  \\\n",
       "0                       -  102999000             -  Монолитно-кирпичный     7   \n",
       "1                       -  120000000          2023                    -     5   \n",
       "3                       -  120000000          2023                    -     5   \n",
       "4                       -   52000000          2023                    -     3   \n",
       "5                    27.0   10000000          1968            Панельный     8   \n",
       "...                   ...        ...           ...                  ...   ...   \n",
       "1048                 40.7   17620000          1976                    -    13   \n",
       "1049                 40.0   17550000          1962           Монолитный     8   \n",
       "1050                 18.3   17700000             -                    -    18   \n",
       "1052                 20.0   17700000             -                    -    21   \n",
       "1054                 22.6   17750000          1964              Блочный     5   \n",
       "\n",
       "      Количество этажей в доме Площадь кухни, м.кв. Количество санузлов  \\\n",
       "0                           12                 10.2                   2   \n",
       "1                           21                    -                   2   \n",
       "3                           21                    -                   2   \n",
       "4                           21                    -                   1   \n",
       "5                            9                  7.0                   1   \n",
       "...                        ...                  ...                 ...   \n",
       "1048                        16                  8.5                   -   \n",
       "1049                         8                  5.3                   1   \n",
       "1050                        25                 12.3                   -   \n",
       "1052                        29                 12.0                   1   \n",
       "1054                         9                  7.5                   1   \n",
       "\n",
       "        Тип ремонта Количество подъездов в доме  \n",
       "0        Евроремонт                           -  \n",
       "1        Евроремонт                           1  \n",
       "3        Евроремонт                           1  \n",
       "4        Евроремонт                           -  \n",
       "5       Без ремонта                           8  \n",
       "...             ...                         ...  \n",
       "1048  Косметический                           1  \n",
       "1049  Косметический                           5  \n",
       "1050     Евроремонт                           -  \n",
       "1052   Дизайнерский                           -  \n",
       "1054     Евроремонт                           1  \n",
       "\n",
       "[1052 rows x 16 columns]"
      ]
     },
     "execution_count": 237,
     "metadata": {},
     "output_type": "execute_result"
    }
   ],
   "source": [
    "df = pd.DataFrame(columns)\n",
    "df"
   ]
  },
  {
   "cell_type": "markdown",
   "id": "01abeeec",
   "metadata": {},
   "source": [
    "Cохраняем в csv-файл без индексов"
   ]
  },
  {
   "cell_type": "code",
   "execution_count": 238,
   "id": "06361d7f-c7f8-4e89-b2e1-f10801afed30",
   "metadata": {},
   "outputs": [],
   "source": [
    "df.to_csv(r'cian.csv', index = False)\n"
   ]
  }
 ],
 "metadata": {
  "kernelspec": {
   "display_name": "Python 3 (ipykernel)",
   "language": "python",
   "name": "python3"
  },
  "language_info": {
   "codemirror_mode": {
    "name": "ipython",
    "version": 3
   },
   "file_extension": ".py",
   "mimetype": "text/x-python",
   "name": "python",
   "nbconvert_exporter": "python",
   "pygments_lexer": "ipython3",
   "version": "3.12.2"
  }
 },
 "nbformat": 4,
 "nbformat_minor": 5
}
