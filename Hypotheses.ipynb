{
 "cells": [
  {
   "cell_type": "markdown",
   "metadata": {},
   "source": [
    "# Проверка гипотез"
   ]
  },
  {
   "cell_type": "code",
   "execution_count": 26,
   "metadata": {},
   "outputs": [],
   "source": [
    "import pandas as pd \n",
    "import numpy as np\n",
    "from scipy import stats\n",
    "import matplotlib.pyplot as plt\n",
    "from sklearn.linear_model import LinearRegression\n"
   ]
  },
  {
   "cell_type": "markdown",
   "metadata": {},
   "source": [
    "Признаки\n",
    "1. `Район` - район, в котором находится находится квартира\n",
    "2. `Улица` - улица, на которой находится дом\n",
    "3. `Станция метро` - ближайшая к дому станция метро\n",
    "4. `Время до метро`, мин. - время до ближайшей станции метро\n",
    "5. `Количество комнат` - количество комнат в квартире\n",
    "6. `Общая площадь, м.кв.` - общая площадь квартиры\n",
    "7. `Жилая площадь, м.кв.` - площадь жилых комнат квартиры\n",
    "8. `Цена` - цена квартиры\n",
    "9. `Год постройки` - год постройки дома\n",
    "10. `Тип дома` - тип постройки дома\n",
    "11. `Этаж` - этаж, на котором находится квартира\n",
    "12. `Количество этажей в доме`- общее количество этажей в доме, в котором находится квартира\n",
    "13. `Площадь кухни, м.кв`. - площадь помещения кухни\n",
    "14. `Количество санузлов` - количество санузлов в кваптире\n",
    "15. `Тип ремонта` - тип ремонта в квартире\n",
    "16. `Количество подъездов в доме` - количество подъездов в доме"
   ]
  },
  {
   "cell_type": "markdown",
   "metadata": {},
   "source": [
    "Мы будем проверять следующие гипотезы:\n",
    "1. Самые дорогие квартиры находятся ближе к центру Москвы\n",
    "2. Самые большие по площади квартиры находятся ближе к центру Москвы, а самые маленькие - ближе к окраинам\n",
    "3. Чаще всего продают 3-комнатные квартиры\n",
    "4. Доля квартир площадью менее 50 кв.м. больше доли квартир площадью больше 50 кв.м.\n",
    "5. Самые большие квартиры были построены в 2000 - 2024гг.\n",
    "6. Самые дорогие квартиры находятся в 5-10 мин. от метро\n",
    "7. Самые дорогие квартиры были построены в 2000 - 2010гг.\n",
    "8. Распределение общей площади квартир экспоненциальное\n",
    "9. Количество подъездов незначительно влияет на другие показатели\n",
    "10. В квартирах с общей площадью 100-150 кв.м в среднем больше санузлов, чем в квартирах с общей площадью 50-100 кв.м."
   ]
  },
  {
   "cell_type": "code",
   "execution_count": 27,
   "metadata": {},
   "outputs": [
    {
     "data": {
      "text/html": [
       "<div>\n",
       "<style scoped>\n",
       "    .dataframe tbody tr th:only-of-type {\n",
       "        vertical-align: middle;\n",
       "    }\n",
       "\n",
       "    .dataframe tbody tr th {\n",
       "        vertical-align: top;\n",
       "    }\n",
       "\n",
       "    .dataframe thead th {\n",
       "        text-align: right;\n",
       "    }\n",
       "</style>\n",
       "<table border=\"1\" class=\"dataframe\">\n",
       "  <thead>\n",
       "    <tr style=\"text-align: right;\">\n",
       "      <th></th>\n",
       "      <th>Район</th>\n",
       "      <th>Улица</th>\n",
       "      <th>Станция метро</th>\n",
       "      <th>Время до метро, мин.</th>\n",
       "      <th>Количество комнат</th>\n",
       "      <th>Общая площадь, м.кв.</th>\n",
       "      <th>Жилая площадь, м.кв.</th>\n",
       "      <th>Цена</th>\n",
       "      <th>Год постройки</th>\n",
       "      <th>Тип дома</th>\n",
       "      <th>Этаж</th>\n",
       "      <th>Количество этажей в доме</th>\n",
       "      <th>Площадь кухни, м.кв.</th>\n",
       "      <th>Количество санузлов</th>\n",
       "      <th>Тип ремонта</th>\n",
       "      <th>Количество подъездов в доме</th>\n",
       "    </tr>\n",
       "  </thead>\n",
       "  <tbody>\n",
       "    <tr>\n",
       "      <th>0</th>\n",
       "      <td>Хамовники</td>\n",
       "      <td>ул. Ефремова</td>\n",
       "      <td>Фрунзенская</td>\n",
       "      <td>6</td>\n",
       "      <td>2</td>\n",
       "      <td>78.0</td>\n",
       "      <td>24</td>\n",
       "      <td>102999000.0</td>\n",
       "      <td>2003</td>\n",
       "      <td>Монолитно-кирпичный</td>\n",
       "      <td>7</td>\n",
       "      <td>12</td>\n",
       "      <td>10</td>\n",
       "      <td>2</td>\n",
       "      <td>Евроремонт</td>\n",
       "      <td>3</td>\n",
       "    </tr>\n",
       "    <tr>\n",
       "      <th>1</th>\n",
       "      <td>Пресненский</td>\n",
       "      <td>2-я Звенигородская ул.</td>\n",
       "      <td>Улица 1905 года</td>\n",
       "      <td>7</td>\n",
       "      <td>3</td>\n",
       "      <td>116.8</td>\n",
       "      <td>24</td>\n",
       "      <td>120000000.0</td>\n",
       "      <td>2023</td>\n",
       "      <td>NaN</td>\n",
       "      <td>5</td>\n",
       "      <td>21</td>\n",
       "      <td>10</td>\n",
       "      <td>2</td>\n",
       "      <td>Евроремонт</td>\n",
       "      <td>1</td>\n",
       "    </tr>\n",
       "    <tr>\n",
       "      <th>2</th>\n",
       "      <td>Пресненский</td>\n",
       "      <td>ул. Костикова</td>\n",
       "      <td>Улица 1905 года</td>\n",
       "      <td>9</td>\n",
       "      <td>2</td>\n",
       "      <td>51.0</td>\n",
       "      <td>24</td>\n",
       "      <td>52000000.0</td>\n",
       "      <td>2023</td>\n",
       "      <td>NaN</td>\n",
       "      <td>3</td>\n",
       "      <td>21</td>\n",
       "      <td>10</td>\n",
       "      <td>1</td>\n",
       "      <td>Евроремонт</td>\n",
       "      <td>3</td>\n",
       "    </tr>\n",
       "    <tr>\n",
       "      <th>3</th>\n",
       "      <td>Головинский</td>\n",
       "      <td>ул. Лавочкина</td>\n",
       "      <td>Водный стадион</td>\n",
       "      <td>4</td>\n",
       "      <td>2</td>\n",
       "      <td>44.0</td>\n",
       "      <td>27</td>\n",
       "      <td>10000000.0</td>\n",
       "      <td>1968</td>\n",
       "      <td>Панельный</td>\n",
       "      <td>8</td>\n",
       "      <td>9</td>\n",
       "      <td>7</td>\n",
       "      <td>1</td>\n",
       "      <td>Без ремонта</td>\n",
       "      <td>8</td>\n",
       "    </tr>\n",
       "    <tr>\n",
       "      <th>4</th>\n",
       "      <td>Мещанский</td>\n",
       "      <td>Рождественский бул.</td>\n",
       "      <td>Трубная</td>\n",
       "      <td>4</td>\n",
       "      <td>3</td>\n",
       "      <td>140.0</td>\n",
       "      <td>100</td>\n",
       "      <td>227576030.0</td>\n",
       "      <td>1903</td>\n",
       "      <td>Кирпичный</td>\n",
       "      <td>2</td>\n",
       "      <td>4</td>\n",
       "      <td>26</td>\n",
       "      <td>2</td>\n",
       "      <td>NaN</td>\n",
       "      <td>4</td>\n",
       "    </tr>\n",
       "    <tr>\n",
       "      <th>...</th>\n",
       "      <td>...</td>\n",
       "      <td>...</td>\n",
       "      <td>...</td>\n",
       "      <td>...</td>\n",
       "      <td>...</td>\n",
       "      <td>...</td>\n",
       "      <td>...</td>\n",
       "      <td>...</td>\n",
       "      <td>...</td>\n",
       "      <td>...</td>\n",
       "      <td>...</td>\n",
       "      <td>...</td>\n",
       "      <td>...</td>\n",
       "      <td>...</td>\n",
       "      <td>...</td>\n",
       "      <td>...</td>\n",
       "    </tr>\n",
       "    <tr>\n",
       "      <th>1044</th>\n",
       "      <td>Лосиноостровский</td>\n",
       "      <td>Стартовая ул.</td>\n",
       "      <td>Медведково</td>\n",
       "      <td>3</td>\n",
       "      <td>3</td>\n",
       "      <td>65.6</td>\n",
       "      <td>41</td>\n",
       "      <td>17620000.0</td>\n",
       "      <td>1976</td>\n",
       "      <td>NaN</td>\n",
       "      <td>13</td>\n",
       "      <td>16</td>\n",
       "      <td>8</td>\n",
       "      <td>1</td>\n",
       "      <td>Косметический</td>\n",
       "      <td>1</td>\n",
       "    </tr>\n",
       "    <tr>\n",
       "      <th>1045</th>\n",
       "      <td>Донской</td>\n",
       "      <td>Варшавское ш.</td>\n",
       "      <td>Нагатинская</td>\n",
       "      <td>11</td>\n",
       "      <td>3</td>\n",
       "      <td>53.4</td>\n",
       "      <td>40</td>\n",
       "      <td>17550000.0</td>\n",
       "      <td>1962</td>\n",
       "      <td>Монолитный</td>\n",
       "      <td>8</td>\n",
       "      <td>8</td>\n",
       "      <td>5</td>\n",
       "      <td>1</td>\n",
       "      <td>Косметический</td>\n",
       "      <td>5</td>\n",
       "    </tr>\n",
       "    <tr>\n",
       "      <th>1046</th>\n",
       "      <td>Нижегородский</td>\n",
       "      <td>Рязанский просп.</td>\n",
       "      <td>Нижегородская</td>\n",
       "      <td>7</td>\n",
       "      <td>1</td>\n",
       "      <td>42.1</td>\n",
       "      <td>18</td>\n",
       "      <td>17700000.0</td>\n",
       "      <td>2003</td>\n",
       "      <td>NaN</td>\n",
       "      <td>18</td>\n",
       "      <td>25</td>\n",
       "      <td>12</td>\n",
       "      <td>1</td>\n",
       "      <td>Евроремонт</td>\n",
       "      <td>3</td>\n",
       "    </tr>\n",
       "    <tr>\n",
       "      <th>1047</th>\n",
       "      <td>Покровское-Стрешнево</td>\n",
       "      <td>Волоколамское ш.</td>\n",
       "      <td>Трикотажная</td>\n",
       "      <td>5</td>\n",
       "      <td>1</td>\n",
       "      <td>39.1</td>\n",
       "      <td>20</td>\n",
       "      <td>17700000.0</td>\n",
       "      <td>2003</td>\n",
       "      <td>NaN</td>\n",
       "      <td>21</td>\n",
       "      <td>29</td>\n",
       "      <td>12</td>\n",
       "      <td>1</td>\n",
       "      <td>Дизайнерский</td>\n",
       "      <td>3</td>\n",
       "    </tr>\n",
       "    <tr>\n",
       "      <th>1048</th>\n",
       "      <td>Ломоносовский</td>\n",
       "      <td>Ленинский просп.</td>\n",
       "      <td>Новаторская</td>\n",
       "      <td>13</td>\n",
       "      <td>2</td>\n",
       "      <td>37.1</td>\n",
       "      <td>23</td>\n",
       "      <td>17750000.0</td>\n",
       "      <td>1964</td>\n",
       "      <td>Блочный</td>\n",
       "      <td>5</td>\n",
       "      <td>9</td>\n",
       "      <td>8</td>\n",
       "      <td>1</td>\n",
       "      <td>Евроремонт</td>\n",
       "      <td>1</td>\n",
       "    </tr>\n",
       "  </tbody>\n",
       "</table>\n",
       "<p>1049 rows × 16 columns</p>\n",
       "</div>"
      ],
      "text/plain": [
       "                     Район                    Улица    Станция метро  \\\n",
       "0                Хамовники             ул. Ефремова      Фрунзенская   \n",
       "1              Пресненский   2-я Звенигородская ул.  Улица 1905 года   \n",
       "2              Пресненский            ул. Костикова  Улица 1905 года   \n",
       "3              Головинский            ул. Лавочкина   Водный стадион   \n",
       "4                Мещанский      Рождественский бул.          Трубная   \n",
       "...                    ...                      ...              ...   \n",
       "1044      Лосиноостровский            Стартовая ул.       Медведково   \n",
       "1045               Донской            Варшавское ш.      Нагатинская   \n",
       "1046         Нижегородский         Рязанский просп.    Нижегородская   \n",
       "1047  Покровское-Стрешнево         Волоколамское ш.      Трикотажная   \n",
       "1048         Ломоносовский         Ленинский просп.      Новаторская   \n",
       "\n",
       "      Время до метро, мин.  Количество комнат  Общая площадь, м.кв.  \\\n",
       "0                        6                  2                  78.0   \n",
       "1                        7                  3                 116.8   \n",
       "2                        9                  2                  51.0   \n",
       "3                        4                  2                  44.0   \n",
       "4                        4                  3                 140.0   \n",
       "...                    ...                ...                   ...   \n",
       "1044                     3                  3                  65.6   \n",
       "1045                    11                  3                  53.4   \n",
       "1046                     7                  1                  42.1   \n",
       "1047                     5                  1                  39.1   \n",
       "1048                    13                  2                  37.1   \n",
       "\n",
       "      Жилая площадь, м.кв.         Цена  Год постройки             Тип дома  \\\n",
       "0                       24  102999000.0           2003  Монолитно-кирпичный   \n",
       "1                       24  120000000.0           2023                  NaN   \n",
       "2                       24   52000000.0           2023                  NaN   \n",
       "3                       27   10000000.0           1968            Панельный   \n",
       "4                      100  227576030.0           1903            Кирпичный   \n",
       "...                    ...          ...            ...                  ...   \n",
       "1044                    41   17620000.0           1976                  NaN   \n",
       "1045                    40   17550000.0           1962           Монолитный   \n",
       "1046                    18   17700000.0           2003                  NaN   \n",
       "1047                    20   17700000.0           2003                  NaN   \n",
       "1048                    23   17750000.0           1964              Блочный   \n",
       "\n",
       "      Этаж  Количество этажей в доме  Площадь кухни, м.кв.  \\\n",
       "0        7                        12                    10   \n",
       "1        5                        21                    10   \n",
       "2        3                        21                    10   \n",
       "3        8                         9                     7   \n",
       "4        2                         4                    26   \n",
       "...    ...                       ...                   ...   \n",
       "1044    13                        16                     8   \n",
       "1045     8                         8                     5   \n",
       "1046    18                        25                    12   \n",
       "1047    21                        29                    12   \n",
       "1048     5                         9                     8   \n",
       "\n",
       "      Количество санузлов    Тип ремонта  Количество подъездов в доме  \n",
       "0                       2     Евроремонт                            3  \n",
       "1                       2     Евроремонт                            1  \n",
       "2                       1     Евроремонт                            3  \n",
       "3                       1    Без ремонта                            8  \n",
       "4                       2            NaN                            4  \n",
       "...                   ...            ...                          ...  \n",
       "1044                    1  Косметический                            1  \n",
       "1045                    1  Косметический                            5  \n",
       "1046                    1     Евроремонт                            3  \n",
       "1047                    1   Дизайнерский                            3  \n",
       "1048                    1     Евроремонт                            1  \n",
       "\n",
       "[1049 rows x 16 columns]"
      ]
     },
     "execution_count": 27,
     "metadata": {},
     "output_type": "execute_result"
    }
   ],
   "source": [
    "df = pd.read_csv('cian1.csv')\n",
    "df"
   ]
  },
  {
   "cell_type": "markdown",
   "metadata": {},
   "source": [
    "## Гипотеза №1\n",
    "Проверим гипотезу о том, что квартиры, расположенные ближе к центру города стоят дороже.\n",
    "$$ H_0: \\mu_{center} = \\mu_{not center} $$\n",
    "$$ H_1: \\mu_{center} > \\mu_{not center} $$\n",
    "Где $\\mu_{center}$ - мат. ожидание выборки цен квартир в районах Хамовники, Пресненский, Арбат, Замоскворечье, Тверской, Якиманка, Раменки, Таганский, а $\\mu_{notcenter}$ - мат.ожидание выборки цен квартир в районах, расположенных дальше от центра.\n",
    "\n",
    "Формула для рассчета z-статистики $$ \\Z = \\frac{{\\bar{X}_1 - \\bar{X}_2}}{\\sqrt{\\frac{\\sigma_1^2}{n_1}  + \\frac{\\sigma_2^2}{n_2}}} $$\n",
    "\n"
   ]
  },
  {
   "cell_type": "markdown",
   "metadata": {},
   "source": [
    "Разделим датафрейм df на два: dfc(квартиры в центральных районах) и dfnc(остальные квартиры), посчитаем для них средние значения и среднеквадратичесиее отклонения показателя Цена, найдем количество наблюдений в датафреймах, рассчитаем z-статистику и критическое значение для уровня значимости 0.05, сравним их:"
   ]
  },
  {
   "cell_type": "code",
   "execution_count": 28,
   "metadata": {},
   "outputs": [
    {
     "data": {
      "text/plain": [
       "(20.05174125801305, 1.644853626951472)"
      ]
     },
     "execution_count": 28,
     "metadata": {},
     "output_type": "execute_result"
    }
   ],
   "source": [
    "dc = ['Хамовники', 'Пресненский', 'Арбат', 'Замоскворечье', 'Тверской', 'Якиманка', 'Раменки', 'Таганский']\n",
    "dfc = df[df['Район'].isin(dc)]\n",
    "dfnc = df[~df['Район'].isin(dc)]\n",
    "mean1 = dfc['Цена'].mean()\n",
    "mean2 = dfnc['Цена'].mean()\n",
    "std1 = dfc['Цена'].std()\n",
    "std2 = dfnc['Цена'].std()\n",
    "n1 = dfc.shape[0]\n",
    "n2 = dfnc.shape[0]\n",
    "z_stat = (mean1 - mean2) / np.sqrt((std1**2 / n1) + (std2**2 / n2))\n",
    "z_crit = stats.norm.ppf(0.95)\n",
    "z_stat, z_crit"
   ]
  },
  {
   "cell_type": "markdown",
   "metadata": {},
   "source": [
    "Значение `z_stat` больше `z_crit`, следовательно, гипотеза H0 отвергается на уровне значимости 0.05. Значит, наша гипотеза о том, что квартиры, расположенные ближе к центру города, стоят дороже, не отвергается."
   ]
  },
  {
   "cell_type": "markdown",
   "metadata": {},
   "source": [
    "## Гипотеза №2\n",
    " Проверим гипотезу о том, что самые большие по площади квартиры находятся ближе к центру Москвы, а самые маленькие - ближе к окраинам\n",
    "$$ H_0: \\mu_{center} = \\mu_{edge} $$\n",
    "$$ H_1: \\mu_{center} > \\mu_{edge} $$\n",
    "Где $\\mu_{center}$ - мат. ожидание общей площади квартир в центральных районах, а $\\mu_{edge}$ - мат. ожидание общей площади квартир в районах Черемушки, Печатнкии, Лосиноостровский, Новогиреево, Сокольники, Преображенское, Свиблово, Ясенево, Гольяново.\n",
    "\n",
    "Формула для рассчета z-статистики $$ \\Z = \\frac{{\\bar{X}_1 - \\bar{X}_2}}{\\sqrt{\\frac{\\sigma_1^2}{n_1}  + \\frac{\\sigma_2^2}{n_2}}} $$"
   ]
  },
  {
   "cell_type": "markdown",
   "metadata": {},
   "source": [
    "Создадим датафрейм dfe, в котором будут квартиры из районов Черемушки, Печатнкии, Лосиноостровский, Новогиреево, Сокольники, Преображенское, Свиблово, Ясенево, Гольяново, в качестве второго датафрейма будем использовать dfс, созданный при проверке гипотезы 1. Посчитаем для них средние значения и среднеквадратичесиее отклонения показателя Общая площадь, м.кв. найдем количество наблюдений в датафреймах, рассчитаем z-статистику и критическое значение для уровня значимости 0.05, сравним их:"
   ]
  },
  {
   "cell_type": "code",
   "execution_count": 29,
   "metadata": {},
   "outputs": [
    {
     "data": {
      "text/plain": [
       "(18.06158699723344, 1.644853626951472)"
      ]
     },
     "execution_count": 29,
     "metadata": {},
     "output_type": "execute_result"
    }
   ],
   "source": [
    "de = ['Черемушки', 'Печатники', 'Лосиноостровский', 'Новогиреево', 'Сокольники', 'Преображенское', 'Свиблово', 'Ясенево', 'Гольяново']\n",
    "dfe = df[df['Район'].isin(de)]\n",
    "mean1 = dfc['Общая площадь, м.кв.'].mean()\n",
    "mean2 = dfe['Общая площадь, м.кв.'].mean()\n",
    "std1 = dfc['Общая площадь, м.кв.'].std()\n",
    "std2 = dfe['Общая площадь, м.кв.'].std()\n",
    "n1 = dfc.shape[0]\n",
    "n2 = dfe.shape[0]\n",
    "z_stat = (mean1 - mean2) / np.sqrt((std1**2 / n1) + (std2**2 / n2))\n",
    "z_crit = stats.norm.ppf(0.95)\n",
    "z_stat, z_crit"
   ]
  },
  {
   "cell_type": "markdown",
   "metadata": {},
   "source": [
    "Значение `z_stat` больше `z_crit`, следовательно, гипотеза H0 отвергается на уровне значимости 0.05. Значит, наша гипотеза о том, что самые большие по площади квартиры находятся ближе к центру Москвы, а самые маленькие - ближе к окраинам, подтверждается."
   ]
  },
  {
   "cell_type": "markdown",
   "metadata": {},
   "source": [
    "## Гипотеза №3\n",
    "Проверим гипотезу о том, что чаще всего продают 3-комнатные квартиры. Для этого проведем z-тест для сравнения долей сначала 3-комнатных и 2-комнатных квартир.\n",
    "\n",
    "3.1 \n",
    "$$ H_0: p_3 = p_2 $$ \n",
    "$$ H_1: p_3 > p_2 $$ \n",
    "Где $p_3$ - доля 3-комнатных квартир, а $p_2$ - доля 2-комнатных квартир.\n",
    "\n",
    "Формула для рассчета z-статистики $$\\Z = \\frac{p_1 - p_2}{\\sqrt{p(1-p)\\left(\\frac{1}{n_1} + \\frac{1}{n_2}\\right)}}$$"
   ]
  },
  {
   "cell_type": "markdown",
   "metadata": {},
   "source": [
    "Рассчитаем `z_stat` и `z_crit`"
   ]
  },
  {
   "cell_type": "code",
   "execution_count": 30,
   "metadata": {},
   "outputs": [
    {
     "data": {
      "text/plain": [
       "(3.7386685255760677, 1.644853626951472)"
      ]
     },
     "execution_count": 30,
     "metadata": {},
     "output_type": "execute_result"
    }
   ],
   "source": [
    "three_rooms = df[df['Количество комнат'] == 3].shape[0]\n",
    "two_rooms = df[df['Количество комнат'] == 2].shape[0]\n",
    "all= two_rooms + three_rooms\n",
    "p1 = three_rooms/all\n",
    "p2 = two_rooms/all\n",
    "p = (three_rooms + two_rooms ) / (2 * all)\n",
    "z_stat = (p1 - p2) / ((p* (1 - p) * ((1 / three_rooms)+ (1/two_rooms))) ** 0.5)\n",
    "z_crit = stats.norm.ppf(0.95)\n",
    "z_stat, z_crit"
   ]
  },
  {
   "cell_type": "markdown",
   "metadata": {},
   "source": [
    "Видим, что `z_stat` больше  `z_crit`, поэтому отвергаем гипотезу H0 о равенстве долей 3-комнатных и 2-комнатных квартир в пользу гипотезу Н1 о том, что доля трехкомнатных квартир больше доли 2-комнатных.\n",
    "\n",
    "Проверим то же самое для доли 3-комнатных и доли 1-комнатных квартир:"
   ]
  },
  {
   "cell_type": "markdown",
   "metadata": {},
   "source": [
    "3.2\n",
    "$$ H_0: p_3 = p_1 $$ \n",
    "   $$ H_1: p_3 > p_1 $$ \n",
    "\n",
    "Формула для рассчета z-статистики $$\\Z = \\frac{p_1 - p_2}{\\sqrt{p(1-p)\\left(\\frac{1}{n_1} + \\frac{1}{n_2}\\right)}}$$"
   ]
  },
  {
   "cell_type": "code",
   "execution_count": 31,
   "metadata": {},
   "outputs": [
    {
     "data": {
      "text/plain": [
       "(8.397978094244436, 1.644853626951472)"
      ]
     },
     "execution_count": 31,
     "metadata": {},
     "output_type": "execute_result"
    }
   ],
   "source": [
    "one_room = df[df['Количество комнат'] == 1].shape[0]\n",
    "all = one_room + three_rooms\n",
    "p1 = three_rooms/all\n",
    "p2 = one_room/all\n",
    "p = (three_rooms + one_room ) / (2 * all)\n",
    "z_stat = (p1 - p2) / ((p* (1 - p) * ((1 / three_rooms)+ (1/one_room))) ** 0.5)\n",
    "z_crit = stats.norm.ppf(0.95)\n",
    "z_stat, z_crit"
   ]
  },
  {
   "cell_type": "markdown",
   "metadata": {},
   "source": [
    "Также видим, что `z_stat` больше  `z_crit`, поэтому гипотеза Н0 о равенстве долей 3-комнатных и 1-комнатных квартир отвергается, следовательно, наша гипотеза H1 не отвергается.\n",
    "\n",
    "Таким обрзаом, по результатов двух тестов отвергаем гипотезы о равенстве долей 3-комнатных и 2-комнатных, 3-комнатных и 1-комнатных квартир; наша гипотеза о том, что чаще всего продают 3-комнатные квартиры подтверждается."
   ]
  },
  {
   "cell_type": "markdown",
   "metadata": {},
   "source": [
    "## Гипотеза №4\n",
    "Проверим, что доля квартир площадью менее 50 кв.м. больше доли квартир площадью больше 50 кв.м.\n",
    "$$\n",
    "\\begin{aligned}\n",
    "& H_0: p_{<50} = p_{>50} \\\\\n",
    "& H_1: p_{<50} > p_{>50}\n",
    "\\end{aligned}\n",
    "$$\n",
    "Где $p_{<50}$ - доля квартир площадью менее 50 кв.м., $p_{>50}$ - доля кввртир площадью более 50 кв.м.\n",
    "Используем ту же формулу, что и для проверки прошлой гипотезы.\n",
    "\n",
    "Формула для рассчета z-статистики $$\\Z = \\frac{p_1 - p_2}{\\sqrt{p(1-p)\\left(\\frac{1}{n_1} + \\frac{1}{n_2}\\right)}}$$\n",
    "\n",
    "​​"
   ]
  },
  {
   "cell_type": "code",
   "execution_count": 32,
   "metadata": {},
   "outputs": [
    {
     "data": {
      "text/plain": [
       "(10.181069665560301, 1.644853626951472)"
      ]
     },
     "execution_count": 32,
     "metadata": {},
     "output_type": "execute_result"
    }
   ],
   "source": [
    "total = df.shape[0]\n",
    "less =df[df['Общая площадь, м.кв.'] < 50].shape[0]\n",
    "more = df[df['Общая площадь, м.кв.'] > 50].shape[0]\n",
    "p1 = less/total\n",
    "p2 = more/total\n",
    "p = (less + more) / (2 * total)\n",
    "z_stat = (p1 - p2) / ((p* (1 - p) * ((1/less) + (1/more))) ** 0.5)\n",
    "z_crit = stats.norm.ppf(0.95)\n",
    "abs(z_stat), z_crit"
   ]
  },
  {
   "cell_type": "markdown",
   "metadata": {},
   "source": [
    "Видим, что `z_stat` больше по модулю, чем  `z_crit`, поэтому гипотеза Н0 о равенстве долей квартир площадью менее 50 кв.м. и площадью больше 50 кв.м. отвергается. Значит, наша гипотеза о том, что доля квартир площадью менее 50 кв.м. больше доли квартир площадью больше 50 кв.м. подтверждается."
   ]
  },
  {
   "cell_type": "markdown",
   "metadata": {},
   "source": [
    "## Гипотеза №5\n",
    "Проверим, действительно ли самые большие квартиры были построены в 2000 - 2024гг.\n",
    "$$\n",
    "\\begin{aligned}\n",
    "& H_0: \\mu_{early} = \\mu_{late} \\\\\n",
    "& H_1: \\mu_{early} > \\mu_{late}\n",
    "\\end{aligned}\n",
    "$$\n",
    "Где $\\mu_{early}$ - мат. ожидание общей площади квартир, построенных до 2000 года, $\\mu_{late}$- мат. ожидание общей площади квартир, построенных после 2000 года.\n",
    "\n",
    "Формула для рассчета z-статистики $$ \\Z = \\frac{{\\bar{X}_1 - \\bar{X}_2}}{\\sqrt{\\frac{\\sigma_1^2}{n_1}  + \\frac{\\sigma_2^2}{n_2}}} $$"
   ]
  },
  {
   "cell_type": "markdown",
   "metadata": {},
   "source": [
    "Разделим датасет на два по признаку года постройки дома, они будут содержать только информацию об общей площади квартир, найдем для них средние значения, стандартные отклонения, длину выборок, воспользуемся формулой и найдем `z_stat` и `z_crit`:"
   ]
  },
  {
   "cell_type": "code",
   "execution_count": 33,
   "metadata": {},
   "outputs": [
    {
     "data": {
      "text/plain": [
       "(12.246084868744123, 1.644853626951472)"
      ]
     },
     "execution_count": 33,
     "metadata": {},
     "output_type": "execute_result"
    }
   ],
   "source": [
    "g1= df[(df['Год постройки'] >= 2000) & (df['Год постройки'] <= 2024)]['Общая площадь, м.кв.']\n",
    "g2 = df[(df['Год постройки'] < 2000) | (df['Год постройки'] > 2024)]['Общая площадь, м.кв.']\n",
    "mean1 = g1.mean()\n",
    "mean2 = g2.mean()\n",
    "std1 = g1.std()\n",
    "std2 = g2.std()\n",
    "n1 = g1.shape[0]\n",
    "n2 = g2.shape[0]\n",
    "z_stat = (mean1 - mean2) / np.sqrt((std1**2 / n1) + (std2**2 / n2))\n",
    "z_crit = stats.norm.ppf(0.95)\n",
    "z_stat, z_crit"
   ]
  },
  {
   "cell_type": "markdown",
   "metadata": {},
   "source": [
    "`z_stat` больше, чем `z_crit`, поэтому мы отвергаем гипотезу H0 о равенстве мат. ожиданий, наша альтернативная гипотеза о том, что самые большие квартиры были построены в 2000 - 2024гг подтверждается."
   ]
  },
  {
   "cell_type": "markdown",
   "metadata": {},
   "source": [
    "## Гипотеза №6\n",
    "Проверим гипотезу о том, что самые дорогие квартиры находятся в 5-10 мин. от метро.\n",
    "$$\n",
    "\\begin{aligned}\n",
    "& H_0: \\mu_{5-10 min} = \\mu_{other time} \\\\\n",
    "& H_1: \\mu_{5-10 min} > \\mu_{other time}\n",
    "\\end{aligned}\n",
    "$$\n",
    "Где $\\mu_{5-10 min}$ - мат. ожидание цен квартир, находящихся в 5-10 минутах от метро, $\\mu_{other time}$ - мат. ожидание цен квартир, находящихся в менее или более 5-10 минут от метро.\n",
    "\n",
    "Формула для рассчета z-статистики $$ \\Z = \\frac{{\\bar{X}_1 - \\bar{X}_2}}{\\sqrt{\\frac{\\sigma_1^2}{n_1}  + \\frac{\\sigma_2^2}{n_2}}} $$"
   ]
  },
  {
   "cell_type": "code",
   "execution_count": 34,
   "metadata": {},
   "outputs": [
    {
     "data": {
      "text/plain": [
       "(7.299500485491257, 1.644853626951472)"
      ]
     },
     "execution_count": 34,
     "metadata": {},
     "output_type": "execute_result"
    }
   ],
   "source": [
    "g1= df[(df['Время до метро, мин.'] >= 5) & (df['Время до метро, мин.'] <= 10)]['Цена']\n",
    "g2 = df[(df['Время до метро, мин.'] < 5) | (df['Время до метро, мин.'] > 10)]['Цена']\n",
    "mean1 = g1.mean()\n",
    "mean2 = g2.mean()\n",
    "std1 = g1.std()\n",
    "std2 = g2.std()\n",
    "n1 = g1.shape[0]\n",
    "n2 = g2.shape[0]\n",
    "z_stat = (mean1 - mean2) / np.sqrt((std1**2 / n1) + (std2**2 / n2))\n",
    "z_crit = stats.norm.ppf(0.95)\n",
    "z_stat, z_crit"
   ]
  },
  {
   "cell_type": "markdown",
   "metadata": {},
   "source": [
    "`z_stat` больше, чем `z_crit`. Отвергаем нулевую гипотезу о равенстве мат. ожиданий цен в пользу альтернативной о том, что самые дорогие квартиры находятся в 5-10 мин. от метро.\n",
    "$$"
   ]
  },
  {
   "cell_type": "markdown",
   "metadata": {},
   "source": [
    "## Гипотеза №7\n",
    "Проверим гипотезу о том, что самые дорогие квартиры были построены в 2000 - 2010гг.\n",
    "$$\n",
    "\\begin{aligned}\n",
    "& H_0: \\mu_{2000-2010} = \\mu_{other years} \\\\\n",
    "& H_1: \\mu_{2000-2010} > \\mu_{other years}\n",
    "\\end{aligned}\n",
    "$$\n",
    "Где $\\mu_{2000-2010}$ - мат. ожидание цен квартир, построенных в 2000-2010гг., $\\mu_{other years}$ - мат. ожидание цен квартир, построенных в другие годы.\n",
    "Формула для рассчета z-статистики $$ \\Z = \\frac{{\\bar{X}_1 - \\bar{X}_2}}{\\sqrt{\\frac{\\sigma_1^2}{n_1}  + \\frac{\\sigma_2^2}{n_2}}} $$\n"
   ]
  },
  {
   "cell_type": "code",
   "execution_count": 35,
   "metadata": {},
   "outputs": [
    {
     "data": {
      "text/plain": [
       "(7.529904500390298, 1.644853626951472)"
      ]
     },
     "execution_count": 35,
     "metadata": {},
     "output_type": "execute_result"
    }
   ],
   "source": [
    "g1= df[(df['Год постройки'] >= 2000) & (df['Год постройки'] <= 2010)]['Цена']\n",
    "g2 = df[(df['Год постройки'] < 2000) | (df['Год постройки'] > 2010)]['Цена']\n",
    "mean1 = g1.mean()\n",
    "mean2 = g2.mean()\n",
    "std1 = g1.std()\n",
    "std2 = g2.std()\n",
    "n1 = g1.shape[0]\n",
    "n2 = g2.shape[0]\n",
    "z_stat = (mean1 - mean2) / np.sqrt((std1**2 / n1) + (std2**2 / n2))\n",
    "z_crit = stats.norm.ppf(0.95)\n",
    "z_stat, z_crit"
   ]
  },
  {
   "cell_type": "markdown",
   "metadata": {},
   "source": [
    "`z_stat` больше, чем `z_crit`. Отвергаем гипотезу H0 о равенстве мат. ожиданий цен, альтернативная гипотеза о том что самые дорогие квартиры были построены в 2000 - 2010гг., подтверждается."
   ]
  },
  {
   "cell_type": "markdown",
   "metadata": {},
   "source": [
    "## Гипотеза №8\n",
    "На этапе визуализаций мы заметили, что распределение общей площади квартир напоминает экспоненциальное.\n",
    "Проверим гипотезу о том, что распределение общей площади квартир экспоненциальное.\n",
    "\n",
    "$$\n",
    "\\begin{aligned} \n",
    "&H_0: \\hspace{1mm} \\text{Общая площадь квартир распределена экспоненциально} \\hspace{1mm} \\\\\n",
    "&H_1: \\hspace{1mm} \\text{Общая площадь квартир распределена не экспоненциально} \\hspace{1mm}\n",
    "\\end{aligned}\n",
    "$$\n",
    "Построим график с эмпирическим и теоретическим распределением, сравним их."
   ]
  },
  {
   "cell_type": "code",
   "execution_count": 36,
   "metadata": {},
   "outputs": [],
   "source": [
    "data = df['Общая площадь, м.кв.']\n",
    "l = 1 / np.mean(data)"
   ]
  },
  {
   "cell_type": "code",
   "execution_count": 37,
   "metadata": {},
   "outputs": [
    {
     "data": {
      "image/png": "[encoded data removed]",
      "text/plain": [
       "<Figure size 640x480 with 1 Axes>"
      ]
     },
     "metadata": {},
     "output_type": "display_data"
    }
   ],
   "source": [
    "xmin, xmax = plt.xlim(25, 255)\n",
    "x = np.linspace(xmin, xmax, 100)\n",
    "p = l * np.exp(-l * x)\n",
    "plt.plot(x, p, linewidth=1, color = 'orchid')\n",
    "plt.hist(df['Общая площадь, м.кв.'], density=True, alpha=0.7, color='pink')\n",
    "\n",
    "plt.suptitle('Гистограмма плотности общей площади квартир и кривая теоретического экспоненциального распределения')\n",
    "plt.xlabel('Общая площадь, м.кв.')\n",
    "plt.ylabel('Плотность')\n",
    "plt.show()"
   ]
  },
  {
   "cell_type": "markdown",
   "metadata": {},
   "source": [
    "Из графика видим, что они не совсем совпадают, вероятно, наша гипотеза H0 отвергается. Для того, чтобы убедиться в этом используем тест Колмогорова-Смирнова, который проверяет гипотезу о принадлежности выборки некоторому закону распределения, то есть проверки того, что эмпирическое распределение соответствует предполагаемой модели. "
   ]
  },
  {
   "cell_type": "code",
   "execution_count": 38,
   "metadata": {},
   "outputs": [
    {
     "data": {
      "text/plain": [
       "KstestResult(statistic=0.13377669400116188, pvalue=7.833829295666129e-17, statistic_location=154.2, statistic_sign=1)"
      ]
     },
     "execution_count": 38,
     "metadata": {},
     "output_type": "execute_result"
    }
   ],
   "source": [
    "stats.kstest(data, 'expon',args=(25, 1/l))"
   ]
  },
  {
   "cell_type": "markdown",
   "metadata": {},
   "source": [
    "В результате теста получаем p-value < 0.05, значит, наша гипотеза H0 о принадлежности выборки общей площади квартир экспоненциальному распределению отвергается на уровне значимости 5%."
   ]
  },
  {
   "cell_type": "markdown",
   "metadata": {},
   "source": [
    "## Гипотеза №9\n",
    "На этапе EDA и визуализации мы заметили, что у признака Количество подъездов в доме самые незначительные коэффициенты корреляции с другими признаками. Проверим гипотезу о том, что количество подъездов незначительно влияет на другие показатели.\n",
    "$$\n",
    "\\begin{aligned} \n",
    "&H_0: \\hspace{1mm} \\text{Количество подъездов незначительно влияет на другие показатели} \\hspace{1mm} \\\\\n",
    "&H_1: \\hspace{1mm} \\text{Количество подъездов значительно влияет на другие показатели} \\hspace{1mm}\n",
    "\\end{aligned}\n",
    "$$\n",
    "Выведем коэффициенты корреляции признака Количество подъездов в доме с пятью другими признаками.\n",
    "\n",
    "С ценой квартиры:"
   ]
  },
  {
   "cell_type": "code",
   "execution_count": 39,
   "metadata": {},
   "outputs": [
    {
     "data": {
      "text/plain": [
       "-0.020736662888323158"
      ]
     },
     "execution_count": 39,
     "metadata": {},
     "output_type": "execute_result"
    }
   ],
   "source": [
    "df['Количество подъездов в доме'].corr(df['Цена'])"
   ]
  },
  {
   "cell_type": "markdown",
   "metadata": {},
   "source": [
    "С количеством комнат в квартире:"
   ]
  },
  {
   "cell_type": "code",
   "execution_count": 40,
   "metadata": {},
   "outputs": [
    {
     "data": {
      "text/plain": [
       "0.0446606233466829"
      ]
     },
     "execution_count": 40,
     "metadata": {},
     "output_type": "execute_result"
    }
   ],
   "source": [
    "df['Количество подъездов в доме'].corr(df['Количество комнат'])"
   ]
  },
  {
   "cell_type": "markdown",
   "metadata": {},
   "source": [
    "С общей площадью квартиры:"
   ]
  },
  {
   "cell_type": "code",
   "execution_count": 41,
   "metadata": {},
   "outputs": [
    {
     "data": {
      "text/plain": [
       "-0.0008120503324317784"
      ]
     },
     "execution_count": 41,
     "metadata": {},
     "output_type": "execute_result"
    }
   ],
   "source": [
    "df['Количество подъездов в доме'].corr(df['Общая площадь, м.кв.'])"
   ]
  },
  {
   "cell_type": "markdown",
   "metadata": {},
   "source": [
    "С годом постройки дома:"
   ]
  },
  {
   "cell_type": "code",
   "execution_count": 42,
   "metadata": {},
   "outputs": [
    {
     "data": {
      "text/plain": [
       "0.02477358230694206"
      ]
     },
     "execution_count": 42,
     "metadata": {},
     "output_type": "execute_result"
    }
   ],
   "source": [
    "df['Количество подъездов в доме'].corr(df['Год постройки'])"
   ]
  },
  {
   "cell_type": "markdown",
   "metadata": {},
   "source": [
    "С временем до метро:"
   ]
  },
  {
   "cell_type": "code",
   "execution_count": 43,
   "metadata": {},
   "outputs": [
    {
     "data": {
      "text/plain": [
       "0.04069539891662144"
      ]
     },
     "execution_count": 43,
     "metadata": {},
     "output_type": "execute_result"
    }
   ],
   "source": [
    "df['Количество подъездов в доме'].corr(df['Время до метро, мин.'])"
   ]
  },
  {
   "cell_type": "markdown",
   "metadata": {},
   "source": [
    "Видим, что они действительно между признаком Количество подъездов в доме и другими очень слабая корреляциия(практически ее отсутствие). Чтобы убедиться в этом, обучим модель линейной регрессии, узнаем коэффициенты признака Количество подъездов в доме при разных целевых переменных."
   ]
  },
  {
   "cell_type": "code",
   "execution_count": 44,
   "metadata": {},
   "outputs": [
    {
     "data": {
      "text/plain": [
       "array([[-464599.06331864]])"
      ]
     },
     "execution_count": 44,
     "metadata": {},
     "output_type": "execute_result"
    }
   ],
   "source": [
    "X= df['Количество подъездов в доме'].values.reshape(-1, 1)\n",
    "y = df['Цена'].values.reshape(-1, 1)\n",
    "m = LinearRegression()\n",
    "lr = m.fit(X, y)\n",
    "m.coef_"
   ]
  },
  {
   "cell_type": "code",
   "execution_count": 45,
   "metadata": {},
   "outputs": [
    {
     "data": {
      "text/plain": [
       "array([[0.01068955]])"
      ]
     },
     "execution_count": 45,
     "metadata": {},
     "output_type": "execute_result"
    }
   ],
   "source": [
    "y = df['Количество комнат'].values.reshape(-1, 1)\n",
    "lr = m.fit(X, y)\n",
    "m.coef_"
   ]
  },
  {
   "cell_type": "code",
   "execution_count": 46,
   "metadata": {},
   "outputs": [
    {
     "data": {
      "text/plain": [
       "array([[-0.0100159]])"
      ]
     },
     "execution_count": 46,
     "metadata": {},
     "output_type": "execute_result"
    }
   ],
   "source": [
    "y = df['Общая площадь, м.кв.'].values.reshape(-1, 1)\n",
    "lr = m.fit(X, y)\n",
    "m.coef_"
   ]
  },
  {
   "cell_type": "code",
   "execution_count": 47,
   "metadata": {},
   "outputs": [
    {
     "data": {
      "text/plain": [
       "array([[0.22230209]])"
      ]
     },
     "execution_count": 47,
     "metadata": {},
     "output_type": "execute_result"
    }
   ],
   "source": [
    "y = df['Год постройки'].values.reshape(-1, 1)\n",
    "lr = m.fit(X, y)\n",
    "m.coef_"
   ]
  },
  {
   "cell_type": "code",
   "execution_count": 48,
   "metadata": {},
   "outputs": [
    {
     "data": {
      "text/plain": [
       "array([[0.05519873]])"
      ]
     },
     "execution_count": 48,
     "metadata": {},
     "output_type": "execute_result"
    }
   ],
   "source": [
    "y = df['Время до метро, мин.'].values.reshape(-1, 1)\n",
    "lr = m.fit(X, y)\n",
    "m.coef_"
   ]
  },
  {
   "cell_type": "markdown",
   "metadata": {},
   "source": [
    "Видим, что значение коэффициента переменной Количество подъездов в доме  при целевой переменной Цена очень большое(по модулю), в то время как при других целевых переменных оно незначительно. Так как модель линейной регрессии обнаружила сильную связь между ценой квартиры и количеством подъездов, отвергаем выдвинутую нами гипотезу H0."
   ]
  },
  {
   "cell_type": "markdown",
   "metadata": {},
   "source": [
    "## Гипотеза №10\n",
    "Проверим гипотезу о том, что в  квартирах с общей площадью 100-150 кв.м в среднем больше санузлов, чем в квартирах с общей площадью 50-100 кв.м.\n",
    "$$\n",
    "\\begin{aligned}\n",
    "& H_0: \\mu_{50-100} = \\mu_{100-150} \\\\\n",
    "& H_1: \\mu_{50-100} < \\mu_{100-150}\n",
    "\\end{aligned}\n",
    "$$\n",
    "Где $\\mu_{50-100}$ - мат. ожидание количества санузлов в квартирах площадью 50-150 кв.м, $\\mu_{100-150}$ - мат. ожидание количества санузлов в квартирах площадью 100-150 кв.м.\n",
    "\n",
    "Формула для рассчета z-статистики $$ \\Z = \\frac{{\\bar{X}_1 - \\bar{X}_2}}{\\sqrt{\\frac{\\sigma_1^2}{n_1}  + \\frac{\\sigma_2^2}{n_2}}} $$\n"
   ]
  },
  {
   "cell_type": "code",
   "execution_count": 49,
   "metadata": {},
   "outputs": [
    {
     "data": {
      "text/plain": [
       "(14.379782192262818, 1.644853626951472)"
      ]
     },
     "execution_count": 49,
     "metadata": {},
     "output_type": "execute_result"
    }
   ],
   "source": [
    "g1 = df[(df['Общая площадь, м.кв.'] >= 50) & (df['Общая площадь, м.кв.'] <= 100)]['Количество санузлов']\n",
    "g2 = df[(df['Общая площадь, м.кв.'] > 100) & (df['Общая площадь, м.кв.'] <= 150)]['Количество санузлов']\n",
    "mean1 = g1.mean()\n",
    "mean2 = g2.mean()\n",
    "std1 = g1.std()\n",
    "std2 = g2.std()\n",
    "n1 = g1.shape[0]\n",
    "n2 = g2.shape[0]\n",
    "z_stat = (mean1 - mean2) / np.sqrt((std1**2 / n1) + (std2**2 / n2))\n",
    "z_crit = stats.norm.ppf(0.95)\n",
    "abs(z_stat), z_crit "
   ]
  },
  {
   "cell_type": "markdown",
   "metadata": {},
   "source": [
    "`z_stat` по модулю больше, чем `z_crit`, значит, наша гипотеза H1 верна, а нулевая о равенстве мат. ожиданий отвергается."
   ]
  },
  {
   "cell_type": "markdown",
   "metadata": {},
   "source": [
    "## Заключение\n",
    "В результате проверки гипотез, мы убедились в том, что верны все гипотезы, кроме гипотез №8 и №9."
   ]
  }
 ],
 "metadata": {
  "kernelspec": {
   "display_name": "Python 3",
   "language": "python",
   "name": "python3"
  },
  "language_info": {
   "codemirror_mode": {
    "name": "ipython",
    "version": 3
   },
   "file_extension": ".py",
   "mimetype": "text/x-python",
   "name": "python",
   "nbconvert_exporter": "python",
   "pygments_lexer": "ipython3",
   "version": "3.12.2"
  }
 },
 "nbformat": 4,
 "nbformat_minor": 2
}
